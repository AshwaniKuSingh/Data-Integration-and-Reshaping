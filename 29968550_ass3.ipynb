{
 "cells": [
  {
   "cell_type": "markdown",
   "metadata": {},
   "source": [
    "## FIT5196 S1-2019 Data Wrangling\n",
    "________________________________\n",
    "## Name: Ashwani Kumar Singh\n",
    "## Student ID: 29968550\n",
    "## Data Integration and Reshaping Assignment\n",
    "________________________________"
   ]
  },
  {
   "cell_type": "markdown",
   "metadata": {},
   "source": [
    "### Importing all the required modules :-"
   ]
  },
  {
   "cell_type": "code",
   "execution_count": 115,
   "metadata": {},
   "outputs": [
    {
     "name": "stderr",
     "output_type": "stream",
     "text": [
      "/Users/aksingh/anaconda3/lib/python3.6/site-packages/sklearn/cross_validation.py:41: DeprecationWarning: This module was deprecated in version 0.18 in favor of the model_selection module into which all the refactored classes and functions are moved. Also note that the interface of the new CV iterators are different from that of this module. This module will be removed in 0.20.\n",
      "  \"This module will be removed in 0.20.\", DeprecationWarning)\n"
     ]
    }
   ],
   "source": [
    "import pandas as pd\n",
    "import numpy\n",
    "import matplotlib \n",
    "%matplotlib inline\n",
    "import shapefile\n",
    "from shapely.geometry import Point\n",
    "from shapely.geometry import shape\n",
    "import matplotlib.pyplot as plt\n",
    "import matplotlib.patches as patches\n",
    "from matplotlib.patches import Polygon    \n",
    "from matplotlib.collections import PatchCollection\n",
    "from math import sin, cos, sqrt, atan2, radians\n",
    "from sklearn import preprocessing\n",
    "import math\n",
    "import geopandas\n",
    "from sklearn.linear_model import LinearRegression\n",
    "from sklearn.cross_validation import train_test_split"
   ]
  },
  {
   "cell_type": "markdown",
   "metadata": {},
   "source": [
    "## TASK - 1"
   ]
  },
  {
   "cell_type": "code",
   "execution_count": 2,
   "metadata": {},
   "outputs": [],
   "source": [
    "# Creating data frame for the file 29968550.csv\n",
    "df = pd.read_csv(\"29968550.csv\")"
   ]
  },
  {
   "cell_type": "markdown",
   "metadata": {},
   "source": [
    "* After inspecting the \"df\" data frame, I found that there are some duplicat rows in the data frame.\n",
    "* So, Dropping the duplicates and keeping the first row of the duplicate."
   ]
  },
  {
   "cell_type": "code",
   "execution_count": 3,
   "metadata": {},
   "outputs": [],
   "source": [
    "# Dropping the duplicates.\n",
    "df = df.drop_duplicates(keep='first')\n",
    "# Resetting the index of because some rows are dropped\n",
    "df = df.reset_index()"
   ]
  },
  {
   "cell_type": "markdown",
   "metadata": {},
   "source": [
    "* For creating crime_df from \"crimebylocationdatatable-yearending31march2016.xlsx\", I've removed some of the unncessary cells from the file to get only the data that is required for the assignment."
   ]
  },
  {
   "cell_type": "code",
   "execution_count": 4,
   "metadata": {},
   "outputs": [],
   "source": [
    "# Crime_df data frame\n",
    "crime_dataf = pd.read_excel(\"crimebylocationdatatable-yearending31march2016.xlsx\",sheet_name = \"Table 1\")"
   ]
  },
  {
   "cell_type": "code",
   "execution_count": 5,
   "metadata": {},
   "outputs": [],
   "source": [
    "crime_dataf.drop(['Unnamed: 0'],axis=1,inplace=True)\n",
    "crime_dataf.dropna(inplace=True)\n",
    "new_columns = crime_dataf.iloc[0]\n",
    "crime_dataf = crime_dataf[1:]\n",
    "crime_dataf.columns = new_columns\n",
    "crime_dataf = crime_dataf.reset_index()"
   ]
  },
  {
   "cell_type": "code",
   "execution_count": 6,
   "metadata": {},
   "outputs": [],
   "source": [
    "crime_df = pd.DataFrame()\n",
    "crime_df['Apr - Mar reference period'] = crime_dataf['Apr - Mar reference period']\n",
    "crime_df['Police Region'] = crime_dataf['Police Region']\n",
    "crime_df['Police Service Area'] =crime_dataf['Police Service Area']\n",
    "crime_df['Local Government Area'] = crime_dataf['Local Government Area']\n",
    "crime_df['CSA Offence Division'] = crime_dataf['CSA Offence Division']\n",
    "crime_df['CSA Offence Subdivision'] = crime_dataf['CSA Offence Subdivision']\n",
    "crime_df['Offence Count'] = crime_dataf['Offence Count']\n",
    "crime_df['LGA ERP'] = crime_dataf['LGA ERP']\n",
    "crime_df['Victorian ERP'] = crime_dataf['Victorian ERP']\n",
    "crime_df = crime_df.reset_index()"
   ]
  },
  {
   "cell_type": "markdown",
   "metadata": {},
   "source": [
    "* Creating data frame from councils.txt\n",
    "* Giving names to two columns as ['Government_Area','Suburbs']"
   ]
  },
  {
   "cell_type": "code",
   "execution_count": 7,
   "metadata": {},
   "outputs": [],
   "source": [
    "# Creating data frame from councils.txt\n",
    "councils_df = pd.read_csv('councils.txt', sep=':',names = ['Government_Area','Suburbs'])"
   ]
  },
  {
   "cell_type": "code",
   "execution_count": 8,
   "metadata": {},
   "outputs": [],
   "source": [
    "# Creating data frame from councils.txt\n",
    "councils_df = pd.read_csv('councils.txt', sep=':',names = ['Government_Area','Suburbs'])"
   ]
  },
  {
   "cell_type": "code",
   "execution_count": 9,
   "metadata": {},
   "outputs": [],
   "source": [
    "# # Creating an empty \"Suburb\" column in \"crime_df\"\n",
    "# crime_df['Suburb'] = crime_df.apply(lambda _: '', axis=1)"
   ]
  },
  {
   "cell_type": "markdown",
   "metadata": {},
   "source": [
    "* In the below code for every \"Local Government Area\" from crime_df, I'm inputing list of all the suburbs from the from the councils_df.\n",
    "* rstrip is called on the \"councils_df['Government_Area']\" because the rows in this column has extra white space at the end, so when comparision is happening, it will have match.\n",
    "* If any match is found, breaking the inner loop for the next iteration \n",
    "* And, finally changing the suburb list to upper case because the \"suburb\" returned from the polygon is in capital letter. "
   ]
  },
  {
   "cell_type": "code",
   "execution_count": 10,
   "metadata": {},
   "outputs": [],
   "source": [
    "for i in range(len(crime_df)):\n",
    "    for j in range(len(councils_df)):\n",
    "        if crime_df['Local Government Area'][i] ==  councils_df['Government_Area'][j].rstrip():\n",
    "            crime_df.loc[i,'Suburbs'] = councils_df['Suburbs'][j].upper()\n",
    "            break"
   ]
  },
  {
   "cell_type": "markdown",
   "metadata": {},
   "source": [
    "### Suburb "
   ]
  },
  {
   "cell_type": "markdown",
   "metadata": {},
   "source": [
    "* Creating the lat_long_point for finding the suburb of the latitude and longitude."
   ]
  },
  {
   "cell_type": "code",
   "execution_count": 11,
   "metadata": {},
   "outputs": [],
   "source": [
    "sgeo = geopandas.read_file(\"vic_suburb_boundary/VIC_LOCALITY_POLYGON_shp.shp\")"
   ]
  },
  {
   "cell_type": "code",
   "execution_count": 12,
   "metadata": {},
   "outputs": [],
   "source": [
    "list1 = []\n",
    "for x in range(len(df)):\n",
    "    z = Point(df[\"Longtitude\"][x],df[\"Lattitude\"][x])\n",
    "    for y in range(len(sgeo)):\n",
    "        if sgeo.geometry[y].contains(z):\n",
    "            list1.append(sgeo.VIC_LOCA_2[y])"
   ]
  },
  {
   "cell_type": "markdown",
   "metadata": {},
   "source": [
    "* Since I got the list of all the suburbs for the \"df\" data frame.\n",
    "* So, creating a \"suburb\" column in \"df\""
   ]
  },
  {
   "cell_type": "code",
   "execution_count": 13,
   "metadata": {},
   "outputs": [],
   "source": [
    "# creating suburb column in \"df\" data frame\n",
    "df['Suburb'] = list1"
   ]
  },
  {
   "cell_type": "markdown",
   "metadata": {},
   "source": [
    "* Creating empty data frame for all the text files given in the gtfs data set"
   ]
  },
  {
   "cell_type": "code",
   "execution_count": 14,
   "metadata": {},
   "outputs": [],
   "source": [
    "agency = pd.DataFrame()\n",
    "calender_dates = pd.DataFrame()\n",
    "calender = pd.DataFrame()\n",
    "routes = pd.DataFrame()\n",
    "shapes = pd.DataFrame()\n",
    "stop_times = pd.DataFrame()\n",
    "stops = pd.DataFrame()\n",
    "trips = pd.DataFrame()"
   ]
  },
  {
   "cell_type": "markdown",
   "metadata": {},
   "source": [
    "* Merging all the data from different folder of the of gtfs data set\n",
    "* For merging data from different folder of gtfs, I've created the gtfs file directory in the same way that was given."
   ]
  },
  {
   "cell_type": "code",
   "execution_count": 15,
   "metadata": {},
   "outputs": [],
   "source": [
    "gtfs_list = [1,2,3,4,5,6,7,8,10,11]\n",
    "for i in gtfs_list:\n",
    "    age_df = pd.read_csv(\"gtfs/\"+ str(i) +\"/google_transit/agency.txt\")\n",
    "    cal_dat_df = pd.read_csv(\"gtfs/\"+ str(i) +\"/google_transit/calendar_dates.txt\")\n",
    "    cal_df = pd.read_csv(\"gtfs/\"+ str(i) +\"/google_transit/calendar.txt\")\n",
    "    rou_df = pd.read_csv(\"gtfs/\"+ str(i) +\"/google_transit/routes.txt\")\n",
    "    sha_df = pd.read_csv(\"gtfs/\"+ str(i) +\"/google_transit/shapes.txt\")\n",
    "    st_df = pd.read_csv(\"gtfs/\"+ str(i) +\"/google_transit/stop_times.txt\")\n",
    "    stop_df = pd.read_csv(\"gtfs/\"+ str(i) +\"/google_transit/stops.txt\")\n",
    "    trip_df = pd.read_csv(\"gtfs/\"+ str(i) +\"/google_transit/trips.txt\")\n",
    "    \n",
    "    # Concatening the data from different folder\n",
    "    agency = pd.concat([agency, age_df], ignore_index=True)\n",
    "    calender_dates = pd.concat([calender_dates, cal_dat_df], ignore_index=True)\n",
    "    calender = pd.concat([calender, cal_df], ignore_index=True)\n",
    "    routes = pd.concat([routes, rou_df], ignore_index=True)\n",
    "    shapes = pd.concat([shapes, sha_df], ignore_index=True)\n",
    "    stop_times = pd.concat([stop_times, st_df], ignore_index=True)\n",
    "    stops = pd.concat([stops, stop_df], ignore_index=True)\n",
    "    trips = pd.concat([trips, trip_df], ignore_index=True)"
   ]
  },
  {
   "cell_type": "markdown",
   "metadata": {},
   "source": [
    "### Distance_to_train_station and train_station_id "
   ]
  },
  {
   "cell_type": "markdown",
   "metadata": {},
   "source": [
    "* Finding the service id from calendar that has service on monday, tuesday, wednesday, thursday and friday"
   ]
  },
  {
   "cell_type": "code",
   "execution_count": 16,
   "metadata": {},
   "outputs": [],
   "source": [
    "service_ids=[]\n",
    "for i in range (len(calender[\"service_id\"])):\n",
    "    monday = calender[\"monday\"][i]==1\n",
    "    tuesday = calender[\"tuesday\"][i]==1\n",
    "    wednesday = calender[\"wednesday\"][i]==1\n",
    "    thursday = calender[\"thursday\"][i]==1\n",
    "    friday = calender[\"friday\"][i]==1\n",
    "    if monday & tuesday & wednesday & thursday & friday:\n",
    "        service_ids.append(calender[\"service_id\"][i])  \n",
    "service_ids = set(service_ids)"
   ]
  },
  {
   "cell_type": "markdown",
   "metadata": {},
   "source": [
    "* Finding the trip id that has same service id as in the service_ids list"
   ]
  },
  {
   "cell_type": "code",
   "execution_count": 17,
   "metadata": {},
   "outputs": [],
   "source": [
    "trip_ids=[]\n",
    "for i in range(len(trips)):\n",
    "    if trips.loc[i,'service_id'] in service_ids :\n",
    "        trip_ids.append(trips[\"trip_id\"][i])"
   ]
  },
  {
   "cell_type": "markdown",
   "metadata": {},
   "source": [
    "* The below code will find out the trip id of the trip from stop_times data frame that has stop id equal to the stop id of Southern Cross Railway Station .\n",
    "* The main purpose of doing this is to find out the trip id that has the direct trip to the Southern Cross Railway Station "
   ]
  },
  {
   "cell_type": "code",
   "execution_count": 18,
   "metadata": {},
   "outputs": [],
   "source": [
    "trp = []\n",
    "for i in range(len(stop_times)):\n",
    "    if stop_times['stop_id'][i] in [20043,22180]:\n",
    "        trp.append(stop_times['trip_id'][i])"
   ]
  },
  {
   "cell_type": "markdown",
   "metadata": {},
   "source": [
    "* Now based on the filtered trp, I need to check the wether trip ids of \"trp\" are in \"trip_ids\" or not.\n",
    "* So, if any of the trip id of trp that is not there in trip_ids needs to be removed.\n",
    "* So, I'm creating a new filtered trip id ."
   ]
  },
  {
   "cell_type": "code",
   "execution_count": 19,
   "metadata": {},
   "outputs": [],
   "source": [
    "filtered_id = []\n",
    "for i in trp:\n",
    "    if i in trip_ids:\n",
    "        filtered_id.append(i)"
   ]
  },
  {
   "cell_type": "code",
   "execution_count": 20,
   "metadata": {},
   "outputs": [],
   "source": [
    "\"\"\"\n",
    "Since the departure time has to be within 7 - 9:30 AM. So, creating two variables of time, one for 7 and other \n",
    "for 9:30\n",
    "\"\"\" \n",
    "start_time = int('7')*60 + int('0')\n",
    "end_time = int('9')*60 + int('30')"
   ]
  },
  {
   "cell_type": "markdown",
   "metadata": {},
   "source": [
    "* The below code will filter trip based on the departure time in the range of 7:00 to 9:30.\n",
    "* Second filteration is based on filtered_id."
   ]
  },
  {
   "cell_type": "code",
   "execution_count": 21,
   "metadata": {},
   "outputs": [],
   "source": [
    "stop_ids = []\n",
    "filtered_trip_id = set()\n",
    "for i in range(len(stop_times)):\n",
    "    split_time = stop_times[\"departure_time\"][i].split(\":\")\n",
    "    time = int(split_time[0])*60 + int(split_time[1])\n",
    "    if time >= start_time and time <= end_time:\n",
    "        if stop_times[\"trip_id\"][i] in filtered_id:\n",
    "            filtered_trip_id.add(stop_times['trip_id'][i])\n",
    "            stop_ids.append(stop_times['stop_id'][i])"
   ]
  },
  {
   "cell_type": "code",
   "execution_count": 22,
   "metadata": {},
   "outputs": [],
   "source": [
    "\"Converting the stop_ids to set to have the unique values of stop_id\"\n",
    "stop_ids = set(stop_ids)"
   ]
  },
  {
   "cell_type": "markdown",
   "metadata": {},
   "source": [
    "* Next step is to find out the latitude and longitude of the stop id.\n",
    "* But while working on stops data frame I found some duplicate stop_id in the data of the stops data frame.\n",
    "* So, before finding the latitude and longitude of the stop id, removing the duplicates stop_id from stops since stop_id is a primary key in stops."
   ]
  },
  {
   "cell_type": "code",
   "execution_count": 23,
   "metadata": {},
   "outputs": [],
   "source": [
    "# Removing duplicates stop_id\n",
    "stops.drop_duplicates(subset='stop_id', keep=\"last\",inplace=True)\n",
    "# Resetting the index of stops data frame\n",
    "stops = stops.reset_index()"
   ]
  },
  {
   "cell_type": "markdown",
   "metadata": {},
   "source": [
    "* stops_id_lat_long is a list that has sub list, this sub list has latitude,longitude and stop_id. "
   ]
  },
  {
   "cell_type": "code",
   "execution_count": 24,
   "metadata": {},
   "outputs": [],
   "source": [
    "stops_id_lat_long = []\n",
    "for i in range(len(stops)):\n",
    "    if stops['stop_id'][i] in stop_ids:\n",
    "        id_lat_long = [] \n",
    "        id_lat_long.append(stops['stop_id'][i])\n",
    "        id_lat_long.append(stops['stop_lat'][i])\n",
    "        id_lat_long.append(stops['stop_lon'][i])\n",
    "    stops_id_lat_long.append(id_lat_long)"
   ]
  },
  {
   "cell_type": "markdown",
   "metadata": {},
   "source": [
    "* Distance function which has 4 argument two latitude and two longitude, using these latitude and longitude distance between two point is calculated and finally this function will return the calculated distance"
   ]
  },
  {
   "cell_type": "code",
   "execution_count": 25,
   "metadata": {},
   "outputs": [],
   "source": [
    "def distance(lattitude1,long1,lattitude2,long2):\n",
    "# approximate radius of earth in km\n",
    "    R = 6378\n",
    "    lat1 = radians(float(lattitude1))\n",
    "    lon1 = radians(float(long1))\n",
    "    lat2 = radians(float(lattitude2))\n",
    "    lon2 = radians(float(long2))\n",
    "    dlon = lon2 - lon1\n",
    "    dlat = lat2 - lat1\n",
    "\n",
    "    a = sin(dlat / 2)**2 + cos(lat1) * cos(lat2) * sin(dlon / 2)**2\n",
    "    c = 2 * atan2(sqrt(a), sqrt(1 - a))\n",
    "\n",
    "    distance = (R * c)\n",
    "    return(distance) "
   ]
  },
  {
   "cell_type": "markdown",
   "metadata": {},
   "source": [
    "* After doing all the process nearest_train_station_id and distance_to_train_station are as :-"
   ]
  },
  {
   "cell_type": "code",
   "execution_count": 26,
   "metadata": {},
   "outputs": [],
   "source": [
    "nearest_train_station_id = []\n",
    "distance_to_train_station = []\n",
    "for i in range(len(df)):\n",
    "    temp_list_for_all_distance = []\n",
    "    for j in range(len(stops_id_lat_long)):\n",
    "        temp_list_for_all_distance.append(distance(df['Lattitude'][i],df['Longtitude'][i],stops_id_lat_long[j][1],stops_id_lat_long[j][2]))\n",
    "    minimum_distance = min(temp_list_for_all_distance)\n",
    "    index_of_minimum_distance = temp_list_for_all_distance.index(minimum_distance)\n",
    "    distance_to_train_station.append(minimum_distance*1000)\n",
    "    nearest_train_station_id.append(stops_id_lat_long[index_of_minimum_distance][0])"
   ]
  },
  {
   "cell_type": "markdown",
   "metadata": {},
   "source": [
    "* Now, since I've calculated \"nearest_train_station_id\", so adding \"train_station_id\" column in \"df\" data frame."
   ]
  },
  {
   "cell_type": "code",
   "execution_count": 27,
   "metadata": {},
   "outputs": [],
   "source": [
    "df['train_station_id'] = nearest_train_station_id"
   ]
  },
  {
   "cell_type": "markdown",
   "metadata": {},
   "source": [
    "*  And, since I've also calculated \"distance_to_train_station\", so adding \"distance_to_train_station\" column in \"df\" data frame."
   ]
  },
  {
   "cell_type": "code",
   "execution_count": 28,
   "metadata": {},
   "outputs": [],
   "source": [
    "df['distance_to_train_station'] = distance_to_train_station"
   ]
  },
  {
   "cell_type": "markdown",
   "metadata": {},
   "source": [
    "### travel_min_to_CBD"
   ]
  },
  {
   "cell_type": "markdown",
   "metadata": {},
   "source": [
    "* The average travel time (minutes) from the closest train station (regional/metropolitan) that has a direct trip to the “Southern Cross Railway Station” on weekdays (i.e. Monday-Friday) departing ​between 7 to 9:30 am."
   ]
  },
  {
   "cell_type": "code",
   "execution_count": 29,
   "metadata": {},
   "outputs": [],
   "source": [
    "new_df = pd.DataFrame()\n",
    "for i in filtered_trip_id:\n",
    "    new_df = pd.concat([new_df, stop_times[stop_times['trip_id']==i]], ignore_index=True)"
   ]
  },
  {
   "cell_type": "code",
   "execution_count": 30,
   "metadata": {},
   "outputs": [],
   "source": [
    "llist_of_trip_from_station = []\n",
    "for station in df['train_station_id']:\n",
    "    list_of_trip_from_station = []\n",
    "    for i in range(len(new_df)): \n",
    "        if station == new_df['stop_id'][i]:\n",
    "            tuple_of_trip_daptTime = (new_df['trip_id'][i],new_df['departure_time'][i])\n",
    "            list_of_trip_from_station.append(tuple_of_trip_daptTime)\n",
    "    llist_of_trip_from_station.append(list_of_trip_from_station)"
   ]
  },
  {
   "cell_type": "code",
   "execution_count": 31,
   "metadata": {},
   "outputs": [],
   "source": [
    "trip_id_and_arrival_time = []\n",
    "for i in range(len(stop_times)):\n",
    "    if stop_times['stop_id'][i] in [20043,22180]:\n",
    "        trip_id_and_arrival_time.append((stop_times['trip_id'][i],stop_times['arrival_time'][i]))        "
   ]
  },
  {
   "cell_type": "code",
   "execution_count": 33,
   "metadata": {},
   "outputs": [],
   "source": [
    "from statistics import mean\n",
    "tutty = []\n",
    "for i in llist_of_trip_from_station:\n",
    "    b = []\n",
    "    for j in i:\n",
    "        for k in trip_id_and_arrival_time:\n",
    "            if j[0] == k[0]:\n",
    "                split_time_1 = j[1].split(\":\")\n",
    "                time_1 = int(split_time_1[0])*60 + int(split_time_1[1])+int(split_time_1[2])/60\n",
    "                split_time_2 = k[1].split(\":\")\n",
    "                time_2 = int(split_time_2[0])*60 + int(split_time_2[1])+int(split_time_2[2])/60\n",
    "                a = abs(time_2-time_1)\n",
    "                break\n",
    "        b.append(a)\n",
    "    tutty.append(mean(b))       "
   ]
  },
  {
   "cell_type": "code",
   "execution_count": 34,
   "metadata": {},
   "outputs": [],
   "source": [
    "df['travel_min_to_CBD'] = tutty"
   ]
  },
  {
   "cell_type": "markdown",
   "metadata": {},
   "source": [
    "### Crime_A_average"
   ]
  },
  {
   "cell_type": "markdown",
   "metadata": {},
   "source": [
    "* Crime_A_average column has the average of type \"A\" crime for three years prior to selling in the local government area of the property as the property.\n",
    "* So, I'm creating a \"crime_A_df\" data frame that has all the data of type \"A\" crime."
   ]
  },
  {
   "cell_type": "code",
   "execution_count": 35,
   "metadata": {},
   "outputs": [],
   "source": [
    "# Filtering the \"crime_df\" data frame to get only type \"A\" crime.\n",
    "crime_A_df = crime_df[crime_df['CSA Offence Division']=='A Crimes against the person']\n",
    "# Resetting the index of the new data frame.\n",
    "crime_A_df = crime_A_df.reset_index()"
   ]
  },
  {
   "cell_type": "markdown",
   "metadata": {},
   "source": [
    "* In the code underneath, first I'm finding the three years prior to selling, and then for every year in the same suburb counting the offence, and then dividing the total number of offence by the total instances of offence occured in those years in that suburb to get the average of the crime. "
   ]
  },
  {
   "cell_type": "code",
   "execution_count": 37,
   "metadata": {},
   "outputs": [],
   "source": [
    "crime_A_average_list = []\n",
    "for each in range(len(df)):\n",
    "    # Three years prior to selling\n",
    "    three_years_crime = [int(df['Date'][each].split('/')[2])-i for i in range(1,4)]\n",
    "    # variable that will have the sum of all the offence through these years in the same suburbs\n",
    "    total_crime_sum = []\n",
    "    # Variable that will have instance count of offence\n",
    "    for year in three_years_crime:\n",
    "        for i in range(len(crime_A_df)):\n",
    "            if year == crime_A_df['Apr - Mar reference period'][i] and df['Suburb'][each] in  crime_df['Suburbs'][i]:\n",
    "                total_crime_sum.append(crime_A_df['Offence Count'][i])\n",
    "    # If the sum is zero then appending the default value\n",
    "    if len(total_crime_sum) == 0:\n",
    "        crime_A_average_list.append(-1)\n",
    "    else:\n",
    "        crime_A_average_list.append(mean(total_crime_sum))\n",
    "#     print(total_crime_sum,count)"
   ]
  },
  {
   "cell_type": "code",
   "execution_count": 38,
   "metadata": {},
   "outputs": [],
   "source": [
    "df['crime_A_average'] = crime_A_average_list"
   ]
  },
  {
   "cell_type": "markdown",
   "metadata": {},
   "source": [
    "### Crime_B_average"
   ]
  },
  {
   "cell_type": "markdown",
   "metadata": {},
   "source": [
    "* Crime_B_average column has the average of type \"B\" crime for three years prior to selling in the local government area of the property as the property.\n",
    "* So, I'm creating a \"crime_C_df\" data frame that has all the data of type \"B\" crime."
   ]
  },
  {
   "cell_type": "code",
   "execution_count": 40,
   "metadata": {},
   "outputs": [],
   "source": [
    "# Filtering the \"crime_df\" data frame to get only type \"B\" crime.\n",
    "crime_B_df = crime_df[crime_df['CSA Offence Division']=='B Property and deception offences']\n",
    "# Resetting the index of the new data frame.\n",
    "crime_B_df = crime_B_df.reset_index()"
   ]
  },
  {
   "cell_type": "markdown",
   "metadata": {},
   "source": [
    "* In the code underneath, first I'm finding the three years prior to selling, and then for every year in the same suburb counting the offence, and then dividing the total number of offence by the total instances of offence occured in those years in that suburb to get the average of the crime. "
   ]
  },
  {
   "cell_type": "code",
   "execution_count": 41,
   "metadata": {},
   "outputs": [],
   "source": [
    "crime_B_average_list = []\n",
    "for each in range(len(df)):\n",
    "    # Three years prior to selling\n",
    "    three_years_crime = [int(df['Date'][each].split('/')[2])-i for i in range(1,4)]\n",
    "    # variable that will have the sum of all the offence through these years in the same suburbs\n",
    "    total_crime_B_sum = 0\n",
    "    # Variable that will have instance count of offence\n",
    "    count_B = 0\n",
    "    for year in three_years_crime:\n",
    "        for i in range(len(crime_B_df)):\n",
    "            if year == crime_B_df['Apr - Mar reference period'][i] and df['Suburb'][each] in  crime_B_df['Suburbs'][i]:\n",
    "                total_crime_B_sum+=crime_B_df['Offence Count'][i]\n",
    "                count_B+=1\n",
    "    # If the sum is zero then appending the default value\n",
    "    if total_crime_B_sum == 0:\n",
    "        crime_B_average_list.append(-1)\n",
    "    else:\n",
    "        crime_B_average_list.append(total_crime_B_sum/count_B)"
   ]
  },
  {
   "cell_type": "code",
   "execution_count": 42,
   "metadata": {},
   "outputs": [],
   "source": [
    "df['crime_B_average'] = crime_B_average_list"
   ]
  },
  {
   "cell_type": "markdown",
   "metadata": {},
   "source": [
    "### Crime_C_average"
   ]
  },
  {
   "cell_type": "markdown",
   "metadata": {},
   "source": [
    "* Crime_C_average column has the average of type \"C\" crime for three years prior to selling in the local government area of the property as the property.\n",
    "* So, I'm creating a \"crime_C_df\" data frame that has all the data of type \"C\" crime."
   ]
  },
  {
   "cell_type": "code",
   "execution_count": 43,
   "metadata": {},
   "outputs": [],
   "source": [
    "# Filtering the \"crime_df\" data frame to get only type \"B\" crime.\n",
    "crime_C_df = crime_df[crime_df['CSA Offence Division']=='C Drug offences']\n",
    "# Resetting the index of the new data frame.\n",
    "crime_C_df = crime_C_df.reset_index()"
   ]
  },
  {
   "cell_type": "markdown",
   "metadata": {},
   "source": [
    "* In the code underneath, first I'm finding the three years prior to selling, and then for every year in the same suburb counting the offence, and then dividing the total number of offence by the total instances of offence occured in those years in that suburb to get the average of the crime. "
   ]
  },
  {
   "cell_type": "code",
   "execution_count": 44,
   "metadata": {},
   "outputs": [],
   "source": [
    "crime_C_average_list = []\n",
    "for each in range(len(df)):\n",
    "    # Three years prior to selling\n",
    "    three_years_crime = [int(df['Date'][each].split('/')[2])-i for i in range(1,4)]\n",
    "    # variable that will have the sum of all the offence through these years in the same suburbs\n",
    "    total_crime_C_sum = 0\n",
    "    # Variable that will have instance count of offence   \n",
    "    count_C = 0\n",
    "    for year in three_years_crime:\n",
    "        for i in range(len(crime_C_df)):\n",
    "            if year == crime_C_df['Apr - Mar reference period'][i] and df['Suburb'][each] in  crime_C_df['Suburbs'][i]:     \n",
    "                total_crime_C_sum+=crime_C_df['Offence Count'][i]\n",
    "                count_C+=1\n",
    "    # If the sum is zero then appending the default value\n",
    "    if total_crime_C_sum == 0:\n",
    "        crime_C_average_list.append(-1)\n",
    "    else:\n",
    "        crime_C_average_list.append(total_crime_C_sum/count_C)"
   ]
  },
  {
   "cell_type": "code",
   "execution_count": 45,
   "metadata": {},
   "outputs": [],
   "source": [
    "df['crime_C_average'] = crime_C_average_list"
   ]
  },
  {
   "cell_type": "markdown",
   "metadata": {},
   "source": [
    "### over_priced"
   ]
  },
  {
   "cell_type": "markdown",
   "metadata": {},
   "source": [
    "* Creating median price column in \"df\" data frame with respect to bedrooms, bathrooms, parking_space, and property_type attributes in the same suburb in the year of selling."
   ]
  },
  {
   "cell_type": "markdown",
   "metadata": {},
   "source": [
    "The average of type A crime for three years prior to selling ​in the local government\n",
    "area of the property as the property. For example, if a property is sold in 2016,\n",
    "then you should calculate the average of the crime type A for 2013, 2014 and 2015. ​Default value: -1"
   ]
  },
  {
   "cell_type": "code",
   "execution_count": 46,
   "metadata": {},
   "outputs": [],
   "source": [
    "df= df.assign(year_num= df.Date.apply(lambda x: int(x[len(x)-4:])))\n",
    "df['Median_Price'] = df.groupby(['Rooms','Type','Bathroom','Car','Suburb','year_num'])['Price'].transform('median')"
   ]
  },
  {
   "cell_type": "markdown",
   "metadata": {},
   "source": [
    "* Checking if the price is greater than median price in the same suburb.\n",
    "* If the price is greater then appending '0' in the over price list else appending default value which is -1."
   ]
  },
  {
   "cell_type": "code",
   "execution_count": 47,
   "metadata": {},
   "outputs": [],
   "source": [
    "Over_Price_List = []\n",
    "for x,y in df[['Price','Median_Price']].values:\n",
    "    if x > y :\n",
    "        Over_Price_List.append(0)\n",
    "    else:\n",
    "        Over_Price_List.append(1)"
   ]
  },
  {
   "cell_type": "markdown",
   "metadata": {},
   "source": [
    "* Creating \"over_priced\" column in the \"df\" data frame."
   ]
  },
  {
   "cell_type": "code",
   "execution_count": 48,
   "metadata": {},
   "outputs": [],
   "source": [
    "df['over_priced'] = Over_Price_List"
   ]
  },
  {
   "cell_type": "markdown",
   "metadata": {},
   "source": [
    "## Task - 2"
   ]
  },
  {
   "cell_type": "markdown",
   "metadata": {},
   "source": [
    "* Let's have a look at the given price distribution without any Normalization and Transformation on the data and then check the effects of different normalization/transformation methods. "
   ]
  },
  {
   "cell_type": "markdown",
   "metadata": {},
   "source": [
    "We are going to use different techniques for this task namely:\n",
    "\n",
    "* Z-Score Normalization (standardization)\n",
    "* minmax normalization\n",
    "* log transformation\n",
    "* power transformation\n",
    "* sqrt transformation"
   ]
  },
  {
   "cell_type": "markdown",
   "metadata": {},
   "source": [
    "#### Z-Score Normalization"
   ]
  },
  {
   "cell_type": "code",
   "execution_count": 120,
   "metadata": {},
   "outputs": [],
   "source": [
    "df_copy = df.copy() ## using copy of dataframe for our operations"
   ]
  },
  {
   "cell_type": "code",
   "execution_count": 121,
   "metadata": {},
   "outputs": [
    {
     "data": {
      "text/plain": [
       "array([[ 0.13315104, -0.99953825, -0.01822556,  2.37188989],\n",
       "       [ 1.22883976, -0.45398937,  0.05550073, -1.33017378],\n",
       "       [-0.96253767, -0.63711686,  0.56642739, -1.21883352],\n",
       "       [-0.96253767, -0.331118  , -0.11887437,  0.42343533],\n",
       "       [ 0.13315104, -0.6256161 , -0.60720749,  1.81518859]])"
      ]
     },
     "execution_count": 121,
     "metadata": {},
     "output_type": "execute_result"
    }
   ],
   "source": [
    "# use scikit-learn linrary for standardise data\n",
    "scale = preprocessing.StandardScaler().fit(df_copy[['Rooms', 'crime_C_average','travel_min_to_CBD','Age']])\n",
    "# this is an array not a df\n",
    "df_std = scale.transform(df_copy[['Rooms', 'crime_C_average','travel_min_to_CBD','Age']])\n",
    "# check the first 5 data\n",
    "df_std[0:5]"
   ]
  },
  {
   "cell_type": "code",
   "execution_count": 122,
   "metadata": {},
   "outputs": [
    {
     "data": {
      "text/html": [
       "<div>\n",
       "<style scoped>\n",
       "    .dataframe tbody tr th:only-of-type {\n",
       "        vertical-align: middle;\n",
       "    }\n",
       "\n",
       "    .dataframe tbody tr th {\n",
       "        vertical-align: top;\n",
       "    }\n",
       "\n",
       "    .dataframe thead th {\n",
       "        text-align: right;\n",
       "    }\n",
       "</style>\n",
       "<table border=\"1\" class=\"dataframe\">\n",
       "  <thead>\n",
       "    <tr style=\"text-align: right;\">\n",
       "      <th></th>\n",
       "      <th>index</th>\n",
       "      <th>ID</th>\n",
       "      <th>Address</th>\n",
       "      <th>Rooms</th>\n",
       "      <th>Type</th>\n",
       "      <th>Price</th>\n",
       "      <th>Date</th>\n",
       "      <th>Bathroom</th>\n",
       "      <th>Car</th>\n",
       "      <th>Landsize</th>\n",
       "      <th>...</th>\n",
       "      <th>crime_A_average</th>\n",
       "      <th>crime_B_average</th>\n",
       "      <th>crime_C_average</th>\n",
       "      <th>year_num</th>\n",
       "      <th>Median_Price</th>\n",
       "      <th>over_priced</th>\n",
       "      <th>Rooms_std_s</th>\n",
       "      <th>crime_C_average_std_s</th>\n",
       "      <th>travel_min_to_CBD_std_s</th>\n",
       "      <th>Age_std_s</th>\n",
       "    </tr>\n",
       "  </thead>\n",
       "  <tbody>\n",
       "    <tr>\n",
       "      <th>0</th>\n",
       "      <td>0</td>\n",
       "      <td>ID778854256</td>\n",
       "      <td>13 Darling St</td>\n",
       "      <td>3</td>\n",
       "      <td>h</td>\n",
       "      <td>1200000.0</td>\n",
       "      <td>3/06/2017</td>\n",
       "      <td>1.0</td>\n",
       "      <td>2.0</td>\n",
       "      <td>440.0</td>\n",
       "      <td>...</td>\n",
       "      <td>41.000000</td>\n",
       "      <td>371.000000</td>\n",
       "      <td>27.333333</td>\n",
       "      <td>2017</td>\n",
       "      <td>1200000.0</td>\n",
       "      <td>1</td>\n",
       "      <td>0.133151</td>\n",
       "      <td>-0.999538</td>\n",
       "      <td>-0.018226</td>\n",
       "      <td>2.371890</td>\n",
       "    </tr>\n",
       "    <tr>\n",
       "      <th>1</th>\n",
       "      <td>1</td>\n",
       "      <td>ID244478945</td>\n",
       "      <td>3/550 Fullarton Rd</td>\n",
       "      <td>4</td>\n",
       "      <td>t</td>\n",
       "      <td>600000.0</td>\n",
       "      <td>27/11/2016</td>\n",
       "      <td>2.0</td>\n",
       "      <td>1.0</td>\n",
       "      <td>231.0</td>\n",
       "      <td>...</td>\n",
       "      <td>218.807692</td>\n",
       "      <td>1040.200000</td>\n",
       "      <td>89.000000</td>\n",
       "      <td>2016</td>\n",
       "      <td>600000.0</td>\n",
       "      <td>1</td>\n",
       "      <td>1.228840</td>\n",
       "      <td>-0.453989</td>\n",
       "      <td>0.055501</td>\n",
       "      <td>-1.330174</td>\n",
       "    </tr>\n",
       "    <tr>\n",
       "      <th>2</th>\n",
       "      <td>2</td>\n",
       "      <td>ID790990379</td>\n",
       "      <td>149 Spring St</td>\n",
       "      <td>2</td>\n",
       "      <td>h</td>\n",
       "      <td>850000.0</td>\n",
       "      <td>17/06/2017</td>\n",
       "      <td>1.0</td>\n",
       "      <td>2.0</td>\n",
       "      <td>494.0</td>\n",
       "      <td>...</td>\n",
       "      <td>212.739130</td>\n",
       "      <td>380.200000</td>\n",
       "      <td>68.300000</td>\n",
       "      <td>2017</td>\n",
       "      <td>702500.0</td>\n",
       "      <td>0</td>\n",
       "      <td>-0.962538</td>\n",
       "      <td>-0.637117</td>\n",
       "      <td>0.566427</td>\n",
       "      <td>-1.218834</td>\n",
       "    </tr>\n",
       "    <tr>\n",
       "      <th>3</th>\n",
       "      <td>3</td>\n",
       "      <td>ID138799980</td>\n",
       "      <td>6/29 Weir St</td>\n",
       "      <td>2</td>\n",
       "      <td>u</td>\n",
       "      <td>460000.0</td>\n",
       "      <td>16/04/2016</td>\n",
       "      <td>1.0</td>\n",
       "      <td>1.0</td>\n",
       "      <td>0.0</td>\n",
       "      <td>...</td>\n",
       "      <td>223.125000</td>\n",
       "      <td>881.500000</td>\n",
       "      <td>102.888889</td>\n",
       "      <td>2016</td>\n",
       "      <td>460000.0</td>\n",
       "      <td>1</td>\n",
       "      <td>-0.962538</td>\n",
       "      <td>-0.331118</td>\n",
       "      <td>-0.118874</td>\n",
       "      <td>0.423435</td>\n",
       "    </tr>\n",
       "    <tr>\n",
       "      <th>4</th>\n",
       "      <td>4</td>\n",
       "      <td>ID508696078</td>\n",
       "      <td>22 Wheeler Pl</td>\n",
       "      <td>3</td>\n",
       "      <td>h</td>\n",
       "      <td>1400000.0</td>\n",
       "      <td>19/11/2016</td>\n",
       "      <td>2.0</td>\n",
       "      <td>2.0</td>\n",
       "      <td>383.0</td>\n",
       "      <td>...</td>\n",
       "      <td>115.625000</td>\n",
       "      <td>798.709677</td>\n",
       "      <td>69.600000</td>\n",
       "      <td>2016</td>\n",
       "      <td>1155500.0</td>\n",
       "      <td>0</td>\n",
       "      <td>0.133151</td>\n",
       "      <td>-0.625616</td>\n",
       "      <td>-0.607207</td>\n",
       "      <td>1.815189</td>\n",
       "    </tr>\n",
       "  </tbody>\n",
       "</table>\n",
       "<p>5 rows × 27 columns</p>\n",
       "</div>"
      ],
      "text/plain": [
       "   index           ID             Address  Rooms Type      Price        Date  \\\n",
       "0      0  ID778854256       13 Darling St      3    h  1200000.0   3/06/2017   \n",
       "1      1  ID244478945  3/550 Fullarton Rd      4    t   600000.0  27/11/2016   \n",
       "2      2  ID790990379       149 Spring St      2    h   850000.0  17/06/2017   \n",
       "3      3  ID138799980        6/29 Weir St      2    u   460000.0  16/04/2016   \n",
       "4      4  ID508696078       22 Wheeler Pl      3    h  1400000.0  19/11/2016   \n",
       "\n",
       "   Bathroom  Car  Landsize    ...      crime_A_average  crime_B_average  \\\n",
       "0       1.0  2.0     440.0    ...            41.000000       371.000000   \n",
       "1       2.0  1.0     231.0    ...           218.807692      1040.200000   \n",
       "2       1.0  2.0     494.0    ...           212.739130       380.200000   \n",
       "3       1.0  1.0       0.0    ...           223.125000       881.500000   \n",
       "4       2.0  2.0     383.0    ...           115.625000       798.709677   \n",
       "\n",
       "   crime_C_average year_num  Median_Price  over_priced  Rooms_std_s  \\\n",
       "0        27.333333     2017     1200000.0            1     0.133151   \n",
       "1        89.000000     2016      600000.0            1     1.228840   \n",
       "2        68.300000     2017      702500.0            0    -0.962538   \n",
       "3       102.888889     2016      460000.0            1    -0.962538   \n",
       "4        69.600000     2016     1155500.0            0     0.133151   \n",
       "\n",
       "   crime_C_average_std_s  travel_min_to_CBD_std_s  Age_std_s  \n",
       "0              -0.999538                -0.018226   2.371890  \n",
       "1              -0.453989                 0.055501  -1.330174  \n",
       "2              -0.637117                 0.566427  -1.218834  \n",
       "3              -0.331118                -0.118874   0.423435  \n",
       "4              -0.625616                -0.607207   1.815189  \n",
       "\n",
       "[5 rows x 27 columns]"
      ]
     },
     "execution_count": 122,
     "metadata": {},
     "output_type": "execute_result"
    }
   ],
   "source": [
    "# Adding columns in dataframe\n",
    "df_copy['Rooms_std_s'] = df_std[:,0]\n",
    "df_copy['crime_C_average_std_s'] = df_std[:,1]\n",
    "df_copy['travel_min_to_CBD_std_s'] = df_std[:,2]\n",
    "df_copy['Age_std_s'] = df_std[:,3]\n",
    "df_copy.head()"
   ]
  },
  {
   "cell_type": "code",
   "execution_count": 123,
   "metadata": {},
   "outputs": [
    {
     "data": {
      "text/html": [
       "<div>\n",
       "<style scoped>\n",
       "    .dataframe tbody tr th:only-of-type {\n",
       "        vertical-align: middle;\n",
       "    }\n",
       "\n",
       "    .dataframe tbody tr th {\n",
       "        vertical-align: top;\n",
       "    }\n",
       "\n",
       "    .dataframe thead th {\n",
       "        text-align: right;\n",
       "    }\n",
       "</style>\n",
       "<table border=\"1\" class=\"dataframe\">\n",
       "  <thead>\n",
       "    <tr style=\"text-align: right;\">\n",
       "      <th></th>\n",
       "      <th>index</th>\n",
       "      <th>Rooms</th>\n",
       "      <th>Price</th>\n",
       "      <th>Bathroom</th>\n",
       "      <th>Car</th>\n",
       "      <th>Landsize</th>\n",
       "      <th>Age</th>\n",
       "      <th>Lattitude</th>\n",
       "      <th>Longtitude</th>\n",
       "      <th>train_station_id</th>\n",
       "      <th>...</th>\n",
       "      <th>crime_A_average</th>\n",
       "      <th>crime_B_average</th>\n",
       "      <th>crime_C_average</th>\n",
       "      <th>year_num</th>\n",
       "      <th>Median_Price</th>\n",
       "      <th>over_priced</th>\n",
       "      <th>Rooms_std_s</th>\n",
       "      <th>crime_C_average_std_s</th>\n",
       "      <th>travel_min_to_CBD_std_s</th>\n",
       "      <th>Age_std_s</th>\n",
       "    </tr>\n",
       "  </thead>\n",
       "  <tbody>\n",
       "    <tr>\n",
       "      <th>count</th>\n",
       "      <td>683.000000</td>\n",
       "      <td>683.000000</td>\n",
       "      <td>6.830000e+02</td>\n",
       "      <td>683.000000</td>\n",
       "      <td>683.000000</td>\n",
       "      <td>683.000000</td>\n",
       "      <td>683.000000</td>\n",
       "      <td>683.000000</td>\n",
       "      <td>683.000000</td>\n",
       "      <td>683.000000</td>\n",
       "      <td>...</td>\n",
       "      <td>683.000000</td>\n",
       "      <td>683.000000</td>\n",
       "      <td>683.000000</td>\n",
       "      <td>683.000000</td>\n",
       "      <td>6.830000e+02</td>\n",
       "      <td>683.000000</td>\n",
       "      <td>6.830000e+02</td>\n",
       "      <td>6.830000e+02</td>\n",
       "      <td>6.830000e+02</td>\n",
       "      <td>6.830000e+02</td>\n",
       "    </tr>\n",
       "    <tr>\n",
       "      <th>mean</th>\n",
       "      <td>344.916545</td>\n",
       "      <td>2.878477</td>\n",
       "      <td>1.028935e+06</td>\n",
       "      <td>1.512445</td>\n",
       "      <td>1.623719</td>\n",
       "      <td>558.896047</td>\n",
       "      <td>53.787701</td>\n",
       "      <td>-37.806451</td>\n",
       "      <td>144.994608</td>\n",
       "      <td>20746.512445</td>\n",
       "      <td>...</td>\n",
       "      <td>109.228863</td>\n",
       "      <td>976.675763</td>\n",
       "      <td>140.317145</td>\n",
       "      <td>2016.540264</td>\n",
       "      <td>1.029702e+06</td>\n",
       "      <td>0.909224</td>\n",
       "      <td>2.841391e-16</td>\n",
       "      <td>-4.096284e-17</td>\n",
       "      <td>4.749739e-16</td>\n",
       "      <td>6.225702e-17</td>\n",
       "    </tr>\n",
       "    <tr>\n",
       "      <th>std</th>\n",
       "      <td>201.738145</td>\n",
       "      <td>0.913337</td>\n",
       "      <td>5.926304e+05</td>\n",
       "      <td>0.704660</td>\n",
       "      <td>0.980974</td>\n",
       "      <td>2071.465248</td>\n",
       "      <td>35.952237</td>\n",
       "      <td>0.079380</td>\n",
       "      <td>0.099461</td>\n",
       "      <td>4291.886825</td>\n",
       "      <td>...</td>\n",
       "      <td>82.238205</td>\n",
       "      <td>752.990738</td>\n",
       "      <td>113.118847</td>\n",
       "      <td>0.498741</td>\n",
       "      <td>5.877263e+05</td>\n",
       "      <td>0.287501</td>\n",
       "      <td>1.000733e+00</td>\n",
       "      <td>1.000733e+00</td>\n",
       "      <td>1.000733e+00</td>\n",
       "      <td>1.000733e+00</td>\n",
       "    </tr>\n",
       "    <tr>\n",
       "      <th>min</th>\n",
       "      <td>0.000000</td>\n",
       "      <td>1.000000</td>\n",
       "      <td>2.200000e+05</td>\n",
       "      <td>0.000000</td>\n",
       "      <td>0.000000</td>\n",
       "      <td>0.000000</td>\n",
       "      <td>2.000000</td>\n",
       "      <td>-38.163630</td>\n",
       "      <td>144.580700</td>\n",
       "      <td>15351.000000</td>\n",
       "      <td>...</td>\n",
       "      <td>-1.000000</td>\n",
       "      <td>13.600000</td>\n",
       "      <td>1.000000</td>\n",
       "      <td>2016.000000</td>\n",
       "      <td>2.200000e+05</td>\n",
       "      <td>0.000000</td>\n",
       "      <td>-2.058226e+00</td>\n",
       "      <td>-1.232502e+00</td>\n",
       "      <td>-2.247410e+00</td>\n",
       "      <td>-1.441514e+00</td>\n",
       "    </tr>\n",
       "    <tr>\n",
       "      <th>25%</th>\n",
       "      <td>170.500000</td>\n",
       "      <td>2.000000</td>\n",
       "      <td>6.242500e+05</td>\n",
       "      <td>1.000000</td>\n",
       "      <td>1.000000</td>\n",
       "      <td>157.000000</td>\n",
       "      <td>19.000000</td>\n",
       "      <td>-37.855870</td>\n",
       "      <td>144.929350</td>\n",
       "      <td>19922.000000</td>\n",
       "      <td>...</td>\n",
       "      <td>39.142992</td>\n",
       "      <td>352.600000</td>\n",
       "      <td>55.111111</td>\n",
       "      <td>2016.000000</td>\n",
       "      <td>6.337500e+05</td>\n",
       "      <td>1.000000</td>\n",
       "      <td>-9.625377e-01</td>\n",
       "      <td>-7.537955e-01</td>\n",
       "      <td>-7.466247e-01</td>\n",
       "      <td>-9.683179e-01</td>\n",
       "    </tr>\n",
       "    <tr>\n",
       "      <th>50%</th>\n",
       "      <td>343.000000</td>\n",
       "      <td>3.000000</td>\n",
       "      <td>8.600000e+05</td>\n",
       "      <td>1.000000</td>\n",
       "      <td>1.000000</td>\n",
       "      <td>400.000000</td>\n",
       "      <td>49.000000</td>\n",
       "      <td>-37.800290</td>\n",
       "      <td>145.001130</td>\n",
       "      <td>19966.000000</td>\n",
       "      <td>...</td>\n",
       "      <td>92.212121</td>\n",
       "      <td>919.823529</td>\n",
       "      <td>113.100000</td>\n",
       "      <td>2017.000000</td>\n",
       "      <td>8.600000e+05</td>\n",
       "      <td>1.000000</td>\n",
       "      <td>1.331510e-01</td>\n",
       "      <td>-2.407830e-01</td>\n",
       "      <td>-9.210247e-02</td>\n",
       "      <td>-1.332660e-01</td>\n",
       "    </tr>\n",
       "    <tr>\n",
       "      <th>75%</th>\n",
       "      <td>516.500000</td>\n",
       "      <td>3.000000</td>\n",
       "      <td>1.283000e+06</td>\n",
       "      <td>2.000000</td>\n",
       "      <td>2.000000</td>\n",
       "      <td>643.000000</td>\n",
       "      <td>74.000000</td>\n",
       "      <td>-37.752300</td>\n",
       "      <td>145.055850</td>\n",
       "      <td>20019.000000</td>\n",
       "      <td>...</td>\n",
       "      <td>171.892308</td>\n",
       "      <td>1428.817742</td>\n",
       "      <td>184.555556</td>\n",
       "      <td>2017.000000</td>\n",
       "      <td>1.275000e+06</td>\n",
       "      <td>1.000000</td>\n",
       "      <td>1.331510e-01</td>\n",
       "      <td>3.913657e-01</td>\n",
       "      <td>5.325698e-01</td>\n",
       "      <td>5.626107e-01</td>\n",
       "    </tr>\n",
       "    <tr>\n",
       "      <th>max</th>\n",
       "      <td>699.000000</td>\n",
       "      <td>5.000000</td>\n",
       "      <td>5.510000e+06</td>\n",
       "      <td>5.000000</td>\n",
       "      <td>7.000000</td>\n",
       "      <td>38490.000000</td>\n",
       "      <td>144.000000</td>\n",
       "      <td>-37.512320</td>\n",
       "      <td>145.430030</td>\n",
       "      <td>52161.000000</td>\n",
       "      <td>...</td>\n",
       "      <td>331.409091</td>\n",
       "      <td>3343.058824</td>\n",
       "      <td>557.000000</td>\n",
       "      <td>2017.000000</td>\n",
       "      <td>5.510000e+06</td>\n",
       "      <td>1.000000</td>\n",
       "      <td>2.324528e+00</td>\n",
       "      <td>3.686284e+00</td>\n",
       "      <td>4.096754e+00</td>\n",
       "      <td>2.511065e+00</td>\n",
       "    </tr>\n",
       "  </tbody>\n",
       "</table>\n",
       "<p>8 rows × 22 columns</p>\n",
       "</div>"
      ],
      "text/plain": [
       "            index       Rooms         Price    Bathroom         Car  \\\n",
       "count  683.000000  683.000000  6.830000e+02  683.000000  683.000000   \n",
       "mean   344.916545    2.878477  1.028935e+06    1.512445    1.623719   \n",
       "std    201.738145    0.913337  5.926304e+05    0.704660    0.980974   \n",
       "min      0.000000    1.000000  2.200000e+05    0.000000    0.000000   \n",
       "25%    170.500000    2.000000  6.242500e+05    1.000000    1.000000   \n",
       "50%    343.000000    3.000000  8.600000e+05    1.000000    1.000000   \n",
       "75%    516.500000    3.000000  1.283000e+06    2.000000    2.000000   \n",
       "max    699.000000    5.000000  5.510000e+06    5.000000    7.000000   \n",
       "\n",
       "           Landsize         Age   Lattitude  Longtitude  train_station_id  \\\n",
       "count    683.000000  683.000000  683.000000  683.000000        683.000000   \n",
       "mean     558.896047   53.787701  -37.806451  144.994608      20746.512445   \n",
       "std     2071.465248   35.952237    0.079380    0.099461       4291.886825   \n",
       "min        0.000000    2.000000  -38.163630  144.580700      15351.000000   \n",
       "25%      157.000000   19.000000  -37.855870  144.929350      19922.000000   \n",
       "50%      400.000000   49.000000  -37.800290  145.001130      19966.000000   \n",
       "75%      643.000000   74.000000  -37.752300  145.055850      20019.000000   \n",
       "max    38490.000000  144.000000  -37.512320  145.430030      52161.000000   \n",
       "\n",
       "           ...       crime_A_average  crime_B_average  crime_C_average  \\\n",
       "count      ...            683.000000       683.000000       683.000000   \n",
       "mean       ...            109.228863       976.675763       140.317145   \n",
       "std        ...             82.238205       752.990738       113.118847   \n",
       "min        ...             -1.000000        13.600000         1.000000   \n",
       "25%        ...             39.142992       352.600000        55.111111   \n",
       "50%        ...             92.212121       919.823529       113.100000   \n",
       "75%        ...            171.892308      1428.817742       184.555556   \n",
       "max        ...            331.409091      3343.058824       557.000000   \n",
       "\n",
       "          year_num  Median_Price  over_priced   Rooms_std_s  \\\n",
       "count   683.000000  6.830000e+02   683.000000  6.830000e+02   \n",
       "mean   2016.540264  1.029702e+06     0.909224  2.841391e-16   \n",
       "std       0.498741  5.877263e+05     0.287501  1.000733e+00   \n",
       "min    2016.000000  2.200000e+05     0.000000 -2.058226e+00   \n",
       "25%    2016.000000  6.337500e+05     1.000000 -9.625377e-01   \n",
       "50%    2017.000000  8.600000e+05     1.000000  1.331510e-01   \n",
       "75%    2017.000000  1.275000e+06     1.000000  1.331510e-01   \n",
       "max    2017.000000  5.510000e+06     1.000000  2.324528e+00   \n",
       "\n",
       "       crime_C_average_std_s  travel_min_to_CBD_std_s     Age_std_s  \n",
       "count           6.830000e+02             6.830000e+02  6.830000e+02  \n",
       "mean           -4.096284e-17             4.749739e-16  6.225702e-17  \n",
       "std             1.000733e+00             1.000733e+00  1.000733e+00  \n",
       "min            -1.232502e+00            -2.247410e+00 -1.441514e+00  \n",
       "25%            -7.537955e-01            -7.466247e-01 -9.683179e-01  \n",
       "50%            -2.407830e-01            -9.210247e-02 -1.332660e-01  \n",
       "75%             3.913657e-01             5.325698e-01  5.626107e-01  \n",
       "max             3.686284e+00             4.096754e+00  2.511065e+00  \n",
       "\n",
       "[8 rows x 22 columns]"
      ]
     },
     "execution_count": 123,
     "metadata": {},
     "output_type": "execute_result"
    }
   ],
   "source": [
    "# check if they have mean(μ) = 0 and SD(σ) = 1\n",
    "df_copy.describe()"
   ]
  },
  {
   "cell_type": "code",
   "execution_count": 124,
   "metadata": {},
   "outputs": [
    {
     "data": {
      "text/plain": [
       "((0, 100), (0, 100), (0, 100), (0, 100))"
      ]
     },
     "execution_count": 124,
     "metadata": {},
     "output_type": "execute_result"
    },
    {
     "data": {
      "image/png": "[encoded data removed]",
      "text/plain": [
       "<Figure size 432x288 with 1 Axes>"
      ]
     },
     "metadata": {},
     "output_type": "display_data"
    }
   ],
   "source": [
    "# before normalization\n",
    "df_copy['Rooms'].plot().set_xlim(0, 100), df_copy['crime_C_average'].plot().set_xlim(0, 100), df_copy['travel_min_to_CBD_std_s'].plot().set_xlim(0, 100),df_copy['Age'].plot().set_xlim(0, 100)"
   ]
  },
  {
   "cell_type": "markdown",
   "metadata": {},
   "source": [
    "##### finding\n",
    "> The standardized data below, and observe the range and the center of the distribution for the standardised features. I found that both original and standardized data are in the same shape but shifted."
   ]
  },
  {
   "cell_type": "code",
   "execution_count": 125,
   "metadata": {},
   "outputs": [
    {
     "data": {
      "text/plain": [
       "((0, 100), (0, 100), (0, 100), (0, 100))"
      ]
     },
     "execution_count": 125,
     "metadata": {},
     "output_type": "execute_result"
    },
    {
     "data": {
      "image/png": "[encoded data removed]",
      "text/plain": [
       "<Figure size 432x288 with 1 Axes>"
      ]
     },
     "metadata": {},
     "output_type": "display_data"
    }
   ],
   "source": [
    "# before normalization\n",
    "df_copy['Rooms_std_s'].plot().set_xlim(0, 100), df_copy['crime_C_average_std_s'].plot().set_xlim(0, 100), df_copy['travel_min_to_CBD_std_s'].plot().set_xlim(0, 100),df_copy['Age_std_s'].plot().set_xlim(0, 100)"
   ]
  },
  {
   "cell_type": "markdown",
   "metadata": {},
   "source": [
    "##### take Rooms as an example\n",
    ">Both of the results are exactly the same but shifted."
   ]
  },
  {
   "cell_type": "code",
   "execution_count": 126,
   "metadata": {},
   "outputs": [
    {
     "data": {
      "text/plain": [
       "((0, 100), (0, 100))"
      ]
     },
     "execution_count": 126,
     "metadata": {},
     "output_type": "execute_result"
    },
    {
     "data": {
      "image/png": "[encoded data removed]",
      "text/plain": [
       "<Figure size 432x288 with 1 Axes>"
      ]
     },
     "metadata": {},
     "output_type": "display_data"
    }
   ],
   "source": [
    "# Rooms\n",
    "df_copy['Rooms_std_s'].plot().set_xlim(0, 100),df_copy['Rooms'].plot().set_xlim(0, 100)"
   ]
  },
  {
   "cell_type": "code",
   "execution_count": 127,
   "metadata": {},
   "outputs": [],
   "source": [
    "# drop the unused columns\n",
    "df_copy.drop(['Rooms_std_s', 'crime_C_average_std_s', 'travel_min_to_CBD_std_s','Age_std_s'], axis=1, inplace=True)"
   ]
  },
  {
   "cell_type": "markdown",
   "metadata": {},
   "source": [
    "#### minmax normalization"
   ]
  },
  {
   "cell_type": "code",
   "execution_count": 128,
   "metadata": {},
   "outputs": [
    {
     "data": {
      "text/plain": [
       "array([[0.5       , 0.04736211, 0.35137564, 0.96478873],\n",
       "       [0.75      , 0.15827338, 0.36299676, 0.02816901],\n",
       "       [0.25      , 0.12104317, 0.44353166, 0.05633803],\n",
       "       [0.25      , 0.1832534 , 0.33551085, 0.47183099],\n",
       "       [0.5       , 0.12338129, 0.25853726, 0.82394366]])"
      ]
     },
     "execution_count": 128,
     "metadata": {},
     "output_type": "execute_result"
    }
   ],
   "source": [
    "minmax_scale = preprocessing.MinMaxScaler().fit(df_copy[['Rooms', 'crime_C_average','travel_min_to_CBD','Age']])\n",
    "df_minmax = minmax_scale.transform(df_copy[['Rooms', 'crime_C_average','travel_min_to_CBD','Age']])\n",
    "df_minmax[0:5]"
   ]
  },
  {
   "cell_type": "markdown",
   "metadata": {},
   "source": [
    "#### Manually:\n",
    ">Take Rooms as an instance. Firstly, find the min and max of \"df_copy['Rooms']\"."
   ]
  },
  {
   "cell_type": "code",
   "execution_count": 129,
   "metadata": {},
   "outputs": [
    {
     "data": {
      "text/plain": [
       "(1, 5)"
      ]
     },
     "execution_count": 129,
     "metadata": {},
     "output_type": "execute_result"
    }
   ],
   "source": [
    "minA = df_copy.Rooms.min()\n",
    "maxA = df_copy.Rooms.max()\n",
    "minA, maxA"
   ]
  },
  {
   "cell_type": "markdown",
   "metadata": {},
   "source": [
    "*  Apply manually the min-max normalization to the first value of \"df_copy['Rooms']\", "
   ]
  },
  {
   "cell_type": "code",
   "execution_count": 130,
   "metadata": {},
   "outputs": [
    {
     "data": {
      "text/plain": [
       "0.5"
      ]
     },
     "execution_count": 130,
     "metadata": {},
     "output_type": "execute_result"
    }
   ],
   "source": [
    "a = df_copy.Rooms[0] \n",
    "mma = (a - minA) / (maxA - minA)\n",
    "mma"
   ]
  },
  {
   "cell_type": "markdown",
   "metadata": {},
   "source": [
    "* and then compare the manually computed value with the one given by the MinMaxScaler above. (should be the same)"
   ]
  },
  {
   "cell_type": "code",
   "execution_count": 131,
   "metadata": {},
   "outputs": [
    {
     "data": {
      "text/plain": [
       "0.5"
      ]
     },
     "execution_count": 131,
     "metadata": {},
     "output_type": "execute_result"
    }
   ],
   "source": [
    "df_minmax[0][0]"
   ]
  },
  {
   "cell_type": "markdown",
   "metadata": {},
   "source": [
    "* The two values mentioned above should be the same. Now, let's look at the normalization of the max value in df_copy['Rooms']. They are all 1."
   ]
  },
  {
   "cell_type": "code",
   "execution_count": 132,
   "metadata": {},
   "outputs": [
    {
     "data": {
      "text/plain": [
       "48     1.0\n",
       "88     1.0\n",
       "101    1.0\n",
       "122    1.0\n",
       "124    1.0\n",
       "138    1.0\n",
       "159    1.0\n",
       "169    1.0\n",
       "180    1.0\n",
       "191    1.0\n",
       "232    1.0\n",
       "234    1.0\n",
       "242    1.0\n",
       "251    1.0\n",
       "261    1.0\n",
       "279    1.0\n",
       "284    1.0\n",
       "330    1.0\n",
       "337    1.0\n",
       "384    1.0\n",
       "398    1.0\n",
       "426    1.0\n",
       "438    1.0\n",
       "454    1.0\n",
       "483    1.0\n",
       "511    1.0\n",
       "547    1.0\n",
       "551    1.0\n",
       "565    1.0\n",
       "599    1.0\n",
       "633    1.0\n",
       "678    1.0\n",
       "682    1.0\n",
       "Name: Rooms, dtype: float64"
      ]
     },
     "execution_count": 132,
     "metadata": {},
     "output_type": "execute_result"
    }
   ],
   "source": [
    "a = df_copy[df_copy.Rooms == df_copy.Rooms.max()].Rooms\n",
    "mma = (a - minA) / (maxA - minA)\n",
    "mma"
   ]
  },
  {
   "cell_type": "code",
   "execution_count": 133,
   "metadata": {},
   "outputs": [
    {
     "name": "stdout",
     "output_type": "stream",
     "text": [
      "Min-value after min-max scaling:\\Rooms = 0.00, crime_C_average = 0.00, travel_min_to_CBD = 0.00, Age = 0.00\n",
      "Max-value after min-max scaling:\\Rooms = 1.00, crime_C_average = 1.00, travel_min_to_CBD = 1.00, Age = 1.00\n"
     ]
    }
   ],
   "source": [
    "print('Min-value after min-max scaling:\\Rooms = {:.2f}, crime_C_average = {:.2f}, travel_min_to_CBD = {:.2f}, Age = {:.2f}'\n",
    "      .format(df_minmax[:,0].min(), df_minmax[:,1].min(), df_minmax[:,2].min(), df_minmax[:,3].min()))\n",
    "print('Max-value after min-max scaling:\\Rooms = {:.2f}, crime_C_average = {:.2f}, travel_min_to_CBD = {:.2f}, Age = {:.2f}'      \n",
    "      .format(df_minmax[:,0].max(), df_minmax[:,1].max(), df_minmax[:,2].max(), df_minmax[:,3].max()))"
   ]
  },
  {
   "cell_type": "markdown",
   "metadata": {},
   "source": [
    "##### plot\n",
    ">Now we can see the distribution for four different features as below."
   ]
  },
  {
   "cell_type": "code",
   "execution_count": 134,
   "metadata": {},
   "outputs": [
    {
     "data": {
      "image/png": "[encoded data removed]",
      "text/plain": [
       "<Figure size 576x432 with 1 Axes>"
      ]
     },
     "metadata": {},
     "output_type": "display_data"
    }
   ],
   "source": [
    "def plot():\n",
    "    f = plt.figure(figsize=(8,6))\n",
    "\n",
    "    plt.scatter(df_copy['Rooms'], df_copy['Price'],\n",
    "            color='green', label='input scale', alpha=0.5)\n",
    "\n",
    "    plt.scatter(df_std[:,0], df_std[:,1], color='red',\n",
    "             label='Standardized u=0, s=1', alpha=0.3)\n",
    "    \n",
    "    plt.scatter(df_minmax[:,0], df_minmax[:,1],\n",
    "            color='blue', label='min-max scaled [min=0, max=1]', alpha=0.3)\n",
    "\n",
    "    plt.title('Rooms & Price')\n",
    "    plt.xlabel('Bedrooms')\n",
    "    plt.ylabel('Price')\n",
    "    plt.legend(loc='upper left')\n",
    "    plt.grid()\n",
    "    plt.tight_layout()\n",
    "\n",
    "plot()\n",
    "plt.show()"
   ]
  },
  {
   "cell_type": "code",
   "execution_count": 135,
   "metadata": {},
   "outputs": [
    {
     "data": {
      "image/png": "[encoded data removed]",
      "text/plain": [
       "<Figure size 576x432 with 1 Axes>"
      ]
     },
     "metadata": {},
     "output_type": "display_data"
    }
   ],
   "source": [
    "def plot():\n",
    "    f = plt.figure(figsize=(8,6))\n",
    "\n",
    "    plt.scatter(df_copy['crime_C_average'], df_copy['Price'],\n",
    "            color='green', label='input scale', alpha=0.5)\n",
    "\n",
    "    plt.scatter(df_std[:,0], df_std[:,1], color='red',\n",
    "             label='Standardized u=0, s=1', alpha=0.3)\n",
    "    \n",
    "    plt.scatter(df_minmax[:,0], df_minmax[:,1],\n",
    "            color='blue', label='min-max scaled [min=0, max=1]', alpha=0.3)\n",
    "\n",
    "    plt.title('Rooms & Price')\n",
    "    plt.xlabel('Bedrooms')\n",
    "    plt.ylabel('Price')\n",
    "    plt.legend(loc='upper left')\n",
    "    plt.grid()\n",
    "    plt.tight_layout()\n",
    "\n",
    "plot()\n",
    "plt.show()"
   ]
  },
  {
   "cell_type": "code",
   "execution_count": 136,
   "metadata": {},
   "outputs": [
    {
     "data": {
      "image/png": "[encoded data removed]",
      "text/plain": [
       "<Figure size 576x432 with 1 Axes>"
      ]
     },
     "metadata": {},
     "output_type": "display_data"
    }
   ],
   "source": [
    "def plot():\n",
    "    f = plt.figure(figsize=(8,6))\n",
    "\n",
    "    plt.scatter(df_copy['travel_min_to_CBD'], df_copy['Price'],\n",
    "            color='green', label='input scale', alpha=0.5)\n",
    "\n",
    "    plt.scatter(df_std[:,0], df_std[:,1], color='red',\n",
    "             label='Standardized u=0, s=1', alpha=0.3)\n",
    "    \n",
    "    plt.scatter(df_minmax[:,0], df_minmax[:,1],\n",
    "            color='blue', label='min-max scaled [min=0, max=1]', alpha=0.3)\n",
    "\n",
    "    plt.title('Rooms & Price')\n",
    "    plt.xlabel('Bedrooms')\n",
    "    plt.ylabel('Price')\n",
    "    plt.legend(loc='upper left')\n",
    "    plt.grid()\n",
    "    plt.tight_layout()\n",
    "\n",
    "plot()\n",
    "plt.show()"
   ]
  },
  {
   "cell_type": "code",
   "execution_count": 137,
   "metadata": {},
   "outputs": [
    {
     "data": {
      "image/png": "[encoded data removed]",
      "text/plain": [
       "<Figure size 576x432 with 1 Axes>"
      ]
     },
     "metadata": {},
     "output_type": "display_data"
    }
   ],
   "source": [
    "def plot():\n",
    "    f = plt.figure(figsize=(8,6))\n",
    "\n",
    "    plt.scatter(df_copy['Age'], df_copy['Price'],\n",
    "            color='green', label='input scale', alpha=0.5)\n",
    "\n",
    "    plt.scatter(df_std[:,0], df_std[:,1], color='red',\n",
    "             label='Standardized u=0, s=1', alpha=0.3)\n",
    "    \n",
    "    plt.scatter(df_minmax[:,0], df_minmax[:,1],\n",
    "            color='blue', label='min-max scaled [min=0, max=1]', alpha=0.3)\n",
    "\n",
    "    plt.title('Rooms & Price')\n",
    "    plt.xlabel('Bedrooms')\n",
    "    plt.ylabel('Price')\n",
    "    plt.legend(loc='upper left')\n",
    "    plt.grid()\n",
    "    plt.tight_layout()\n",
    "\n",
    "plot()\n",
    "plt.show()"
   ]
  },
  {
   "cell_type": "markdown",
   "metadata": {},
   "source": [
    "> For further operations although I'm showing all the four variables but possibly categorical variables like Rooms and Age will not involve in to perform regression, regression likely operations on travel_time and crime_C_average since their numerical significance might play better with model building and expansion puposes."
   ]
  },
  {
   "cell_type": "markdown",
   "metadata": {},
   "source": [
    "### Data Transformation\n",
    ">Before doing data transformation, we can see there is no any relationship between all of the features as below. Besides, the property type is only 'house' so it will be unmeaningful to use it. Consequently, I'll not consider property type in the following sections."
   ]
  },
  {
   "cell_type": "markdown",
   "metadata": {},
   "source": [
    "###  Power transformation"
   ]
  },
  {
   "cell_type": "code",
   "execution_count": 138,
   "metadata": {},
   "outputs": [
    {
     "data": {
      "text/html": [
       "<div>\n",
       "<style scoped>\n",
       "    .dataframe tbody tr th:only-of-type {\n",
       "        vertical-align: middle;\n",
       "    }\n",
       "\n",
       "    .dataframe tbody tr th {\n",
       "        vertical-align: top;\n",
       "    }\n",
       "\n",
       "    .dataframe thead th {\n",
       "        text-align: right;\n",
       "    }\n",
       "</style>\n",
       "<table border=\"1\" class=\"dataframe\">\n",
       "  <thead>\n",
       "    <tr style=\"text-align: right;\">\n",
       "      <th></th>\n",
       "      <th>index</th>\n",
       "      <th>ID</th>\n",
       "      <th>Address</th>\n",
       "      <th>Rooms</th>\n",
       "      <th>Type</th>\n",
       "      <th>Price</th>\n",
       "      <th>Date</th>\n",
       "      <th>Bathroom</th>\n",
       "      <th>Car</th>\n",
       "      <th>Landsize</th>\n",
       "      <th>...</th>\n",
       "      <th>crime_B_average</th>\n",
       "      <th>crime_C_average</th>\n",
       "      <th>year_num</th>\n",
       "      <th>Median_Price</th>\n",
       "      <th>over_priced</th>\n",
       "      <th>price_power</th>\n",
       "      <th>bed_power</th>\n",
       "      <th>crime_power</th>\n",
       "      <th>travel_power</th>\n",
       "      <th>age_power</th>\n",
       "    </tr>\n",
       "  </thead>\n",
       "  <tbody>\n",
       "    <tr>\n",
       "      <th>0</th>\n",
       "      <td>0</td>\n",
       "      <td>ID778854256</td>\n",
       "      <td>13 Darling St</td>\n",
       "      <td>3</td>\n",
       "      <td>h</td>\n",
       "      <td>1200000.0</td>\n",
       "      <td>3/06/2017</td>\n",
       "      <td>1.0</td>\n",
       "      <td>2.0</td>\n",
       "      <td>440.0</td>\n",
       "      <td>...</td>\n",
       "      <td>371.0</td>\n",
       "      <td>27.333333</td>\n",
       "      <td>2017</td>\n",
       "      <td>1200000.0</td>\n",
       "      <td>1</td>\n",
       "      <td>1.440000e+12</td>\n",
       "      <td>9.0</td>\n",
       "      <td>747.111111</td>\n",
       "      <td>620.840278</td>\n",
       "      <td>19321.0</td>\n",
       "    </tr>\n",
       "    <tr>\n",
       "      <th>1</th>\n",
       "      <td>1</td>\n",
       "      <td>ID244478945</td>\n",
       "      <td>3/550 Fullarton Rd</td>\n",
       "      <td>4</td>\n",
       "      <td>t</td>\n",
       "      <td>600000.0</td>\n",
       "      <td>27/11/2016</td>\n",
       "      <td>2.0</td>\n",
       "      <td>1.0</td>\n",
       "      <td>231.0</td>\n",
       "      <td>...</td>\n",
       "      <td>1040.2</td>\n",
       "      <td>89.000000</td>\n",
       "      <td>2016</td>\n",
       "      <td>600000.0</td>\n",
       "      <td>1</td>\n",
       "      <td>3.600000e+11</td>\n",
       "      <td>16.0</td>\n",
       "      <td>7921.000000</td>\n",
       "      <td>662.585734</td>\n",
       "      <td>36.0</td>\n",
       "    </tr>\n",
       "    <tr>\n",
       "      <th>2</th>\n",
       "      <td>2</td>\n",
       "      <td>ID790990379</td>\n",
       "      <td>149 Spring St</td>\n",
       "      <td>2</td>\n",
       "      <td>h</td>\n",
       "      <td>850000.0</td>\n",
       "      <td>17/06/2017</td>\n",
       "      <td>1.0</td>\n",
       "      <td>2.0</td>\n",
       "      <td>494.0</td>\n",
       "      <td>...</td>\n",
       "      <td>380.2</td>\n",
       "      <td>68.300000</td>\n",
       "      <td>2017</td>\n",
       "      <td>702500.0</td>\n",
       "      <td>0</td>\n",
       "      <td>7.225000e+11</td>\n",
       "      <td>4.0</td>\n",
       "      <td>4664.890000</td>\n",
       "      <td>989.203954</td>\n",
       "      <td>100.0</td>\n",
       "    </tr>\n",
       "  </tbody>\n",
       "</table>\n",
       "<p>3 rows × 28 columns</p>\n",
       "</div>"
      ],
      "text/plain": [
       "   index           ID             Address  Rooms Type      Price        Date  \\\n",
       "0      0  ID778854256       13 Darling St      3    h  1200000.0   3/06/2017   \n",
       "1      1  ID244478945  3/550 Fullarton Rd      4    t   600000.0  27/11/2016   \n",
       "2      2  ID790990379       149 Spring St      2    h   850000.0  17/06/2017   \n",
       "\n",
       "   Bathroom  Car  Landsize    ...      crime_B_average  crime_C_average  \\\n",
       "0       1.0  2.0     440.0    ...                371.0        27.333333   \n",
       "1       2.0  1.0     231.0    ...               1040.2        89.000000   \n",
       "2       1.0  2.0     494.0    ...                380.2        68.300000   \n",
       "\n",
       "   year_num Median_Price  over_priced   price_power  bed_power  crime_power  \\\n",
       "0      2017    1200000.0            1  1.440000e+12        9.0   747.111111   \n",
       "1      2016     600000.0            1  3.600000e+11       16.0  7921.000000   \n",
       "2      2017     702500.0            0  7.225000e+11        4.0  4664.890000   \n",
       "\n",
       "   travel_power  age_power  \n",
       "0    620.840278    19321.0  \n",
       "1    662.585734       36.0  \n",
       "2    989.203954      100.0  \n",
       "\n",
       "[3 rows x 28 columns]"
      ]
     },
     "execution_count": 138,
     "metadata": {},
     "output_type": "execute_result"
    }
   ],
   "source": [
    "df_copy['price_power'] = df_copy.apply(lambda data: math.pow(data['Price'],2), axis=1)\n",
    "df_copy['bed_power'] = df_copy.apply(lambda data: math.pow(data['Rooms'],2), axis=1)\n",
    "df_copy['crime_power'] = df_copy.apply(lambda data: math.pow(data['crime_C_average'],2), axis=1)\n",
    "df_copy['travel_power'] = df_copy.apply(lambda data: math.pow(data['travel_min_to_CBD'],2), axis=1)\n",
    "df_copy['age_power'] = df_copy.apply(lambda data: math.pow(data['Age'],2), axis=1)\n",
    "df_copy.head(n=3)"
   ]
  },
  {
   "cell_type": "code",
   "execution_count": 139,
   "metadata": {},
   "outputs": [
    {
     "data": {
      "text/plain": [
       "<matplotlib.collections.PathCollection at 0x1a30c22780>"
      ]
     },
     "execution_count": 139,
     "metadata": {},
     "output_type": "execute_result"
    },
    {
     "data": {
      "image/png": "[encoded data removed]",
      "text/plain": [
       "<Figure size 432x288 with 1 Axes>"
      ]
     },
     "metadata": {},
     "output_type": "display_data"
    }
   ],
   "source": [
    "plt.scatter(df_copy['bed_power'],df_copy['price_power']) # and after"
   ]
  },
  {
   "cell_type": "code",
   "execution_count": 140,
   "metadata": {},
   "outputs": [
    {
     "data": {
      "text/plain": [
       "<matplotlib.collections.PathCollection at 0x1a30acab00>"
      ]
     },
     "execution_count": 140,
     "metadata": {},
     "output_type": "execute_result"
    },
    {
     "data": {
      "image/png": "[encoded data removed]",
      "text/plain": [
       "<Figure size 432x288 with 1 Axes>"
      ]
     },
     "metadata": {},
     "output_type": "display_data"
    }
   ],
   "source": [
    "plt.scatter(df_copy['crime_power'],df_copy['price_power']) # and after"
   ]
  },
  {
   "cell_type": "code",
   "execution_count": 141,
   "metadata": {},
   "outputs": [
    {
     "data": {
      "text/plain": [
       "<matplotlib.collections.PathCollection at 0x1a308f3d68>"
      ]
     },
     "execution_count": 141,
     "metadata": {},
     "output_type": "execute_result"
    },
    {
     "data": {
      "image/png": "[encoded data removed]",
      "text/plain": [
       "<Figure size 432x288 with 1 Axes>"
      ]
     },
     "metadata": {},
     "output_type": "display_data"
    }
   ],
   "source": [
    "plt.scatter(df_copy['travel_power'],df_copy['price_power']) # and after"
   ]
  },
  {
   "cell_type": "code",
   "execution_count": 142,
   "metadata": {},
   "outputs": [
    {
     "data": {
      "text/plain": [
       "<matplotlib.collections.PathCollection at 0x1a2f95b208>"
      ]
     },
     "execution_count": 142,
     "metadata": {},
     "output_type": "execute_result"
    },
    {
     "data": {
      "image/png": "[encoded data removed]",
      "text/plain": [
       "<Figure size 432x288 with 1 Axes>"
      ]
     },
     "metadata": {},
     "output_type": "display_data"
    }
   ],
   "source": [
    "plt.scatter(df_copy['age_power'],df_copy['price_power']) # and after"
   ]
  },
  {
   "cell_type": "code",
   "execution_count": 143,
   "metadata": {},
   "outputs": [],
   "source": [
    "# drop the unused columns\n",
    "df_copy.drop(['price_power', 'travel_power','crime_power'], axis=1, inplace=True)"
   ]
  },
  {
   "cell_type": "markdown",
   "metadata": {},
   "source": [
    "### 5) Sqrt transformation\n",
    ">We cannot find any skew and relation in this part either."
   ]
  },
  {
   "cell_type": "code",
   "execution_count": 144,
   "metadata": {},
   "outputs": [
    {
     "data": {
      "text/html": [
       "<div>\n",
       "<style scoped>\n",
       "    .dataframe tbody tr th:only-of-type {\n",
       "        vertical-align: middle;\n",
       "    }\n",
       "\n",
       "    .dataframe tbody tr th {\n",
       "        vertical-align: top;\n",
       "    }\n",
       "\n",
       "    .dataframe thead th {\n",
       "        text-align: right;\n",
       "    }\n",
       "</style>\n",
       "<table border=\"1\" class=\"dataframe\">\n",
       "  <thead>\n",
       "    <tr style=\"text-align: right;\">\n",
       "      <th></th>\n",
       "      <th>index</th>\n",
       "      <th>ID</th>\n",
       "      <th>Address</th>\n",
       "      <th>Rooms</th>\n",
       "      <th>Type</th>\n",
       "      <th>Price</th>\n",
       "      <th>Date</th>\n",
       "      <th>Bathroom</th>\n",
       "      <th>Car</th>\n",
       "      <th>Landsize</th>\n",
       "      <th>...</th>\n",
       "      <th>year_num</th>\n",
       "      <th>Median_Price</th>\n",
       "      <th>over_priced</th>\n",
       "      <th>bed_power</th>\n",
       "      <th>age_power</th>\n",
       "      <th>price_sqrt</th>\n",
       "      <th>bed_sqrt</th>\n",
       "      <th>crime_sqrt</th>\n",
       "      <th>travel_sqrt</th>\n",
       "      <th>age_sqrt</th>\n",
       "    </tr>\n",
       "  </thead>\n",
       "  <tbody>\n",
       "    <tr>\n",
       "      <th>0</th>\n",
       "      <td>0</td>\n",
       "      <td>ID778854256</td>\n",
       "      <td>13 Darling St</td>\n",
       "      <td>3</td>\n",
       "      <td>h</td>\n",
       "      <td>1200000.0</td>\n",
       "      <td>3/06/2017</td>\n",
       "      <td>1.0</td>\n",
       "      <td>2.0</td>\n",
       "      <td>440.0</td>\n",
       "      <td>...</td>\n",
       "      <td>2017</td>\n",
       "      <td>1200000.0</td>\n",
       "      <td>1</td>\n",
       "      <td>9.0</td>\n",
       "      <td>19321.0</td>\n",
       "      <td>1095.445115</td>\n",
       "      <td>1.732051</td>\n",
       "      <td>5.228129</td>\n",
       "      <td>4.991660</td>\n",
       "      <td>11.789826</td>\n",
       "    </tr>\n",
       "    <tr>\n",
       "      <th>1</th>\n",
       "      <td>1</td>\n",
       "      <td>ID244478945</td>\n",
       "      <td>3/550 Fullarton Rd</td>\n",
       "      <td>4</td>\n",
       "      <td>t</td>\n",
       "      <td>600000.0</td>\n",
       "      <td>27/11/2016</td>\n",
       "      <td>2.0</td>\n",
       "      <td>1.0</td>\n",
       "      <td>231.0</td>\n",
       "      <td>...</td>\n",
       "      <td>2016</td>\n",
       "      <td>600000.0</td>\n",
       "      <td>1</td>\n",
       "      <td>16.0</td>\n",
       "      <td>36.0</td>\n",
       "      <td>774.596669</td>\n",
       "      <td>2.000000</td>\n",
       "      <td>9.433981</td>\n",
       "      <td>5.073533</td>\n",
       "      <td>2.449490</td>\n",
       "    </tr>\n",
       "    <tr>\n",
       "      <th>2</th>\n",
       "      <td>2</td>\n",
       "      <td>ID790990379</td>\n",
       "      <td>149 Spring St</td>\n",
       "      <td>2</td>\n",
       "      <td>h</td>\n",
       "      <td>850000.0</td>\n",
       "      <td>17/06/2017</td>\n",
       "      <td>1.0</td>\n",
       "      <td>2.0</td>\n",
       "      <td>494.0</td>\n",
       "      <td>...</td>\n",
       "      <td>2017</td>\n",
       "      <td>702500.0</td>\n",
       "      <td>0</td>\n",
       "      <td>4.0</td>\n",
       "      <td>100.0</td>\n",
       "      <td>921.954446</td>\n",
       "      <td>1.414214</td>\n",
       "      <td>8.264381</td>\n",
       "      <td>5.608174</td>\n",
       "      <td>3.162278</td>\n",
       "    </tr>\n",
       "  </tbody>\n",
       "</table>\n",
       "<p>3 rows × 30 columns</p>\n",
       "</div>"
      ],
      "text/plain": [
       "   index           ID             Address  Rooms Type      Price        Date  \\\n",
       "0      0  ID778854256       13 Darling St      3    h  1200000.0   3/06/2017   \n",
       "1      1  ID244478945  3/550 Fullarton Rd      4    t   600000.0  27/11/2016   \n",
       "2      2  ID790990379       149 Spring St      2    h   850000.0  17/06/2017   \n",
       "\n",
       "   Bathroom  Car  Landsize    ...      year_num  Median_Price  over_priced  \\\n",
       "0       1.0  2.0     440.0    ...          2017     1200000.0            1   \n",
       "1       2.0  1.0     231.0    ...          2016      600000.0            1   \n",
       "2       1.0  2.0     494.0    ...          2017      702500.0            0   \n",
       "\n",
       "  bed_power  age_power   price_sqrt  bed_sqrt  crime_sqrt  travel_sqrt  \\\n",
       "0       9.0    19321.0  1095.445115  1.732051    5.228129     4.991660   \n",
       "1      16.0       36.0   774.596669  2.000000    9.433981     5.073533   \n",
       "2       4.0      100.0   921.954446  1.414214    8.264381     5.608174   \n",
       "\n",
       "    age_sqrt  \n",
       "0  11.789826  \n",
       "1   2.449490  \n",
       "2   3.162278  \n",
       "\n",
       "[3 rows x 30 columns]"
      ]
     },
     "execution_count": 144,
     "metadata": {},
     "output_type": "execute_result"
    }
   ],
   "source": [
    "df_copy['price_sqrt'] = df_copy.apply(lambda data: math.sqrt(data['Price']), axis=1)\n",
    "df_copy['bed_sqrt'] = df_copy.apply(lambda data: math.sqrt(data['Rooms']), axis=1)\n",
    "df_copy['crime_sqrt'] = df_copy.apply(lambda data: math.sqrt(data['crime_C_average']), axis=1)\n",
    "df_copy['travel_sqrt'] = df_copy.apply(lambda data: math.sqrt(data['travel_min_to_CBD']), axis=1)\n",
    "df_copy['age_sqrt'] = df_copy.apply(lambda data: math.sqrt(data['Age']), axis=1)\n",
    "df_copy.head(n=3)"
   ]
  },
  {
   "cell_type": "code",
   "execution_count": 145,
   "metadata": {},
   "outputs": [
    {
     "data": {
      "text/plain": [
       "<matplotlib.collections.PathCollection at 0x1a2e548f98>"
      ]
     },
     "execution_count": 145,
     "metadata": {},
     "output_type": "execute_result"
    },
    {
     "data": {
      "image/png": "[encoded data removed]",
      "text/plain": [
       "<Figure size 432x288 with 1 Axes>"
      ]
     },
     "metadata": {},
     "output_type": "display_data"
    }
   ],
   "source": [
    "plt.scatter(df_copy['bed_sqrt'],df_copy['price_sqrt']) # and after"
   ]
  },
  {
   "cell_type": "code",
   "execution_count": 146,
   "metadata": {},
   "outputs": [
    {
     "data": {
      "text/plain": [
       "<matplotlib.collections.PathCollection at 0x1a30439470>"
      ]
     },
     "execution_count": 146,
     "metadata": {},
     "output_type": "execute_result"
    },
    {
     "data": {
      "image/png": "[encoded data removed]",
      "text/plain": [
       "<Figure size 432x288 with 1 Axes>"
      ]
     },
     "metadata": {},
     "output_type": "display_data"
    }
   ],
   "source": [
    "plt.scatter(df_copy['crime_sqrt'],df_copy['price_sqrt']) # and after"
   ]
  },
  {
   "cell_type": "code",
   "execution_count": 147,
   "metadata": {},
   "outputs": [
    {
     "data": {
      "text/plain": [
       "<matplotlib.collections.PathCollection at 0x1a30603ba8>"
      ]
     },
     "execution_count": 147,
     "metadata": {},
     "output_type": "execute_result"
    },
    {
     "data": {
      "image/png": "[encoded data removed]",
      "text/plain": [
       "<Figure size 432x288 with 1 Axes>"
      ]
     },
     "metadata": {},
     "output_type": "display_data"
    }
   ],
   "source": [
    "plt.scatter(df_copy['travel_sqrt'],df_copy['price_sqrt']) # and after"
   ]
  },
  {
   "cell_type": "code",
   "execution_count": 148,
   "metadata": {},
   "outputs": [
    {
     "data": {
      "text/plain": [
       "<matplotlib.collections.PathCollection at 0x1a3095d358>"
      ]
     },
     "execution_count": 148,
     "metadata": {},
     "output_type": "execute_result"
    },
    {
     "data": {
      "image/png": "[encoded data removed]",
      "text/plain": [
       "<Figure size 432x288 with 1 Axes>"
      ]
     },
     "metadata": {},
     "output_type": "display_data"
    }
   ],
   "source": [
    "plt.scatter(df_copy['age_sqrt'],df_copy['price_sqrt']) # and after"
   ]
  },
  {
   "cell_type": "code",
   "execution_count": 149,
   "metadata": {},
   "outputs": [],
   "source": [
    "# drop the unused columns\n",
    "df_copy.drop(['price_sqrt', 'age_sqrt', 'travel_sqrt','crime_sqrt','bed_sqrt'], axis=1, inplace=True)"
   ]
  },
  {
   "cell_type": "markdown",
   "metadata": {},
   "source": [
    "### 3) Log transformation\n",
    ">After doing log transformation, we can find the features price, Rooms and age still have no relationship with each other."
   ]
  },
  {
   "cell_type": "code",
   "execution_count": 150,
   "metadata": {},
   "outputs": [
    {
     "data": {
      "text/html": [
       "<div>\n",
       "<style scoped>\n",
       "    .dataframe tbody tr th:only-of-type {\n",
       "        vertical-align: middle;\n",
       "    }\n",
       "\n",
       "    .dataframe tbody tr th {\n",
       "        vertical-align: top;\n",
       "    }\n",
       "\n",
       "    .dataframe thead th {\n",
       "        text-align: right;\n",
       "    }\n",
       "</style>\n",
       "<table border=\"1\" class=\"dataframe\">\n",
       "  <thead>\n",
       "    <tr style=\"text-align: right;\">\n",
       "      <th></th>\n",
       "      <th>index</th>\n",
       "      <th>ID</th>\n",
       "      <th>Address</th>\n",
       "      <th>Rooms</th>\n",
       "      <th>Type</th>\n",
       "      <th>Price</th>\n",
       "      <th>Date</th>\n",
       "      <th>Bathroom</th>\n",
       "      <th>Car</th>\n",
       "      <th>Landsize</th>\n",
       "      <th>...</th>\n",
       "      <th>crime_C_average</th>\n",
       "      <th>year_num</th>\n",
       "      <th>Median_Price</th>\n",
       "      <th>over_priced</th>\n",
       "      <th>bed_power</th>\n",
       "      <th>age_power</th>\n",
       "      <th>price_log</th>\n",
       "      <th>bed_log</th>\n",
       "      <th>crime_log</th>\n",
       "      <th>age_log</th>\n",
       "    </tr>\n",
       "  </thead>\n",
       "  <tbody>\n",
       "    <tr>\n",
       "      <th>0</th>\n",
       "      <td>0</td>\n",
       "      <td>ID778854256</td>\n",
       "      <td>13 Darling St</td>\n",
       "      <td>3</td>\n",
       "      <td>h</td>\n",
       "      <td>1200000.0</td>\n",
       "      <td>3/06/2017</td>\n",
       "      <td>1.0</td>\n",
       "      <td>2.0</td>\n",
       "      <td>440.0</td>\n",
       "      <td>...</td>\n",
       "      <td>27.333333</td>\n",
       "      <td>2017</td>\n",
       "      <td>1200000.0</td>\n",
       "      <td>1</td>\n",
       "      <td>9.0</td>\n",
       "      <td>19321.0</td>\n",
       "      <td>13.997832</td>\n",
       "      <td>1.098612</td>\n",
       "      <td>3.308107</td>\n",
       "      <td>4.934474</td>\n",
       "    </tr>\n",
       "    <tr>\n",
       "      <th>1</th>\n",
       "      <td>1</td>\n",
       "      <td>ID244478945</td>\n",
       "      <td>3/550 Fullarton Rd</td>\n",
       "      <td>4</td>\n",
       "      <td>t</td>\n",
       "      <td>600000.0</td>\n",
       "      <td>27/11/2016</td>\n",
       "      <td>2.0</td>\n",
       "      <td>1.0</td>\n",
       "      <td>231.0</td>\n",
       "      <td>...</td>\n",
       "      <td>89.000000</td>\n",
       "      <td>2016</td>\n",
       "      <td>600000.0</td>\n",
       "      <td>1</td>\n",
       "      <td>16.0</td>\n",
       "      <td>36.0</td>\n",
       "      <td>13.304685</td>\n",
       "      <td>1.386294</td>\n",
       "      <td>4.488636</td>\n",
       "      <td>1.791759</td>\n",
       "    </tr>\n",
       "    <tr>\n",
       "      <th>2</th>\n",
       "      <td>2</td>\n",
       "      <td>ID790990379</td>\n",
       "      <td>149 Spring St</td>\n",
       "      <td>2</td>\n",
       "      <td>h</td>\n",
       "      <td>850000.0</td>\n",
       "      <td>17/06/2017</td>\n",
       "      <td>1.0</td>\n",
       "      <td>2.0</td>\n",
       "      <td>494.0</td>\n",
       "      <td>...</td>\n",
       "      <td>68.300000</td>\n",
       "      <td>2017</td>\n",
       "      <td>702500.0</td>\n",
       "      <td>0</td>\n",
       "      <td>4.0</td>\n",
       "      <td>100.0</td>\n",
       "      <td>13.652992</td>\n",
       "      <td>0.693147</td>\n",
       "      <td>4.223910</td>\n",
       "      <td>2.302585</td>\n",
       "    </tr>\n",
       "  </tbody>\n",
       "</table>\n",
       "<p>3 rows × 29 columns</p>\n",
       "</div>"
      ],
      "text/plain": [
       "   index           ID             Address  Rooms Type      Price        Date  \\\n",
       "0      0  ID778854256       13 Darling St      3    h  1200000.0   3/06/2017   \n",
       "1      1  ID244478945  3/550 Fullarton Rd      4    t   600000.0  27/11/2016   \n",
       "2      2  ID790990379       149 Spring St      2    h   850000.0  17/06/2017   \n",
       "\n",
       "   Bathroom  Car  Landsize    ...     crime_C_average  year_num  Median_Price  \\\n",
       "0       1.0  2.0     440.0    ...           27.333333      2017     1200000.0   \n",
       "1       2.0  1.0     231.0    ...           89.000000      2016      600000.0   \n",
       "2       1.0  2.0     494.0    ...           68.300000      2017      702500.0   \n",
       "\n",
       "  over_priced  bed_power  age_power  price_log   bed_log  crime_log   age_log  \n",
       "0           1        9.0    19321.0  13.997832  1.098612   3.308107  4.934474  \n",
       "1           1       16.0       36.0  13.304685  1.386294   4.488636  1.791759  \n",
       "2           0        4.0      100.0  13.652992  0.693147   4.223910  2.302585  \n",
       "\n",
       "[3 rows x 29 columns]"
      ]
     },
     "execution_count": 150,
     "metadata": {},
     "output_type": "execute_result"
    }
   ],
   "source": [
    "df_copy['price_log'] = df_copy.apply(lambda data: math.log(data['Price']), axis=1)\n",
    "df_copy['bed_log'] = df_copy.apply(lambda data: math.log(data['Rooms']), axis=1)\n",
    "df_copy['crime_log'] = df_copy.apply(lambda data: math.log(data['crime_C_average']), axis=1)\n",
    "df_copy['age_log'] = df_copy.apply(lambda data: math.log(data['Age']), axis=1)\n",
    "df_copy.head(n=3)"
   ]
  },
  {
   "cell_type": "code",
   "execution_count": 151,
   "metadata": {},
   "outputs": [
    {
     "data": {
      "text/plain": [
       "<matplotlib.collections.PathCollection at 0x1a307c1f98>"
      ]
     },
     "execution_count": 151,
     "metadata": {},
     "output_type": "execute_result"
    },
    {
     "data": {
      "image/png": "[encoded data removed]",
      "text/plain": [
       "<Figure size 432x288 with 1 Axes>"
      ]
     },
     "metadata": {},
     "output_type": "display_data"
    }
   ],
   "source": [
    "plt.scatter(df_copy['bed_log'],df_copy['price_log']) # and after"
   ]
  },
  {
   "cell_type": "code",
   "execution_count": 152,
   "metadata": {},
   "outputs": [
    {
     "data": {
      "text/plain": [
       "<matplotlib.collections.PathCollection at 0x1a3054c710>"
      ]
     },
     "execution_count": 152,
     "metadata": {},
     "output_type": "execute_result"
    },
    {
     "data": {
      "image/png": "[encoded data removed]",
      "text/plain": [
       "<Figure size 432x288 with 1 Axes>"
      ]
     },
     "metadata": {},
     "output_type": "display_data"
    }
   ],
   "source": [
    "plt.scatter(df_copy['crime_log'],df_copy['price_log']) # and after"
   ]
  },
  {
   "cell_type": "code",
   "execution_count": 153,
   "metadata": {},
   "outputs": [
    {
     "data": {
      "text/plain": [
       "<matplotlib.collections.PathCollection at 0x1a305102b0>"
      ]
     },
     "execution_count": 153,
     "metadata": {},
     "output_type": "execute_result"
    },
    {
     "data": {
      "image/png": "[encoded data removed]",
      "text/plain": [
       "<Figure size 432x288 with 1 Axes>"
      ]
     },
     "metadata": {},
     "output_type": "display_data"
    }
   ],
   "source": [
    "plt.scatter(df_copy['age_log'],df_copy['price_log']) # and after"
   ]
  },
  {
   "cell_type": "markdown",
   "metadata": {},
   "source": [
    "##### prediction\n",
    ">In general, the higher the R-squared, the better the model fits your data. After trying different permutations, I find R-squared which is the percentage of the response variable variation that is explained by a linear model is always low. That is to say, all of the features I test have little relationship with the house price."
   ]
  },
  {
   "cell_type": "code",
   "execution_count": 154,
   "metadata": {},
   "outputs": [],
   "source": [
    "df_copy['price_power'] = df_copy.apply(lambda data: math.pow(data['Price'],2), axis=1)\n",
    "df_copy['bed_power'] = df_copy.apply(lambda data: math.pow(data['Rooms'],2), axis=1)\n",
    "df_copy['crime_power'] = df_copy.apply(lambda data: math.pow(data['crime_C_average'],2), axis=1)\n",
    "df_copy['travel_power'] = df_copy.apply(lambda data: math.pow(data['travel_min_to_CBD'],2), axis=1)\n",
    "df_copy['age_power'] = df_copy.apply(lambda data: math.pow(data['Age'],2), axis=1)"
   ]
  },
  {
   "cell_type": "code",
   "execution_count": 157,
   "metadata": {},
   "outputs": [
    {
     "name": "stdout",
     "output_type": "stream",
     "text": [
      "Score: 0.30608400927583945\n"
     ]
    }
   ],
   "source": [
    "X = df_copy.loc[:, ['crime_power', 'travel_power','bed_power']].values\n",
    "y = df_copy.loc[:, ['Price']].values\n",
    "X_train, X_test, y_train, y_test = train_test_split(X, y, test_size=0.3, random_state=10)\n",
    "model = LinearRegression()\n",
    "model.fit(X_train, y_train)\n",
    "print('Score: {}'.format(model.score(X_test, y_test)))"
   ]
  },
  {
   "cell_type": "markdown",
   "metadata": {},
   "source": [
    "### Conclusion\n",
    ">In order to carry out the prediction, we should remove outliers to build the regression model. The fewer outliers in the model, the more accurate the prediction will be. In my perspective, after investigating different transformation methods, I think the log and sqrt transformation will work better than the others. This is because they can narrow the value of property price. Then, it could reduce the total outliers to make the prediction much more precise.<br>\n",
    "\n",
    ">Moreover, we can find the distribution of values in the log and sqrt transformation is much more symmetrical than the others. In other words, the regression models of these two can predict the better result. However, scatters in the power transformation plot are distributed in a certain area which means the outcome of prediction won't be 100% accurate."
   ]
  }
 ],
 "metadata": {
  "kernelspec": {
   "display_name": "Python 3",
   "language": "python",
   "name": "python3"
  },
  "language_info": {
   "codemirror_mode": {
    "name": "ipython",
    "version": 3
   },
   "file_extension": ".py",
   "mimetype": "text/x-python",
   "name": "python",
   "nbconvert_exporter": "python",
   "pygments_lexer": "ipython3",
   "version": "3.6.8"
  }
 },
 "nbformat": 4,
 "nbformat_minor": 2
}
